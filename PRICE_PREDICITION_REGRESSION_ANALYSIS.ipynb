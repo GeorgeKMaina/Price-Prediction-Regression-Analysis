{
  "nbformat": 4,
  "nbformat_minor": 0,
  "metadata": {
    "colab": {
      "name": "PRICE PREDICITION REGRESSION ANALYSIS",
      "provenance": [],
      "collapsed_sections": [],
      "authorship_tag": "ABX9TyMcak3sSTyfYILxIZQf6uZy",
      "include_colab_link": true
    },
    "kernelspec": {
      "name": "python3",
      "display_name": "Python 3"
    },
    "language_info": {
      "name": "python"
    }
  },
  "cells": [
    {
      "cell_type": "markdown",
      "metadata": {
        "id": "view-in-github",
        "colab_type": "text"
      },
      "source": [
        "<a href=\"https://colab.research.google.com/github/GeorgeKMaina/Price-Prediction-Regression-Analysis/blob/main/PRICE_PREDICITION_REGRESSION_ANALYSIS.ipynb\" target=\"_parent\"><img src=\"https://colab.research.google.com/assets/colab-badge.svg\" alt=\"Open In Colab\"/></a>"
      ]
    },
    {
      "cell_type": "markdown",
      "metadata": {
        "id": "odNFshetiMIq"
      },
      "source": [
        "# PRICE PREDICTION ANALYSIS"
      ]
    },
    {
      "cell_type": "markdown",
      "metadata": {
        "id": "-gXbNczDiSEp"
      },
      "source": [
        "1. Defining the Research Objective"
      ]
    },
    {
      "cell_type": "markdown",
      "metadata": {
        "id": "lseQ0DbkibIW"
      },
      "source": [
        "a) Specifying the Data Analytic question"
      ]
    },
    {
      "cell_type": "markdown",
      "metadata": {
        "id": "C1zs_UjojrDh"
      },
      "source": [
        "As a Data Scientist, you work for Hass Consulting Company which is a real estate leader with over 25 years of experience. You have been tasked to study the factors that affect housing prices using the given information on real estate properties that was collected over the past few months. Later onwards, create a model that would allow the company to accurately predict the sale of prices upon being provided with the predictor variables. "
      ]
    },
    {
      "cell_type": "markdown",
      "metadata": {
        "id": "YKom5saYiiyd"
      },
      "source": [
        "b) Stating the model Used"
      ]
    },
    {
      "cell_type": "markdown",
      "metadata": {
        "id": "AyIAimv-imsL"
      },
      "source": [
        "2. Recording the Experimental Design"
      ]
    },
    {
      "cell_type": "markdown",
      "metadata": {
        "id": "yPFcgcePitzi"
      },
      "source": [
        "a) Coming up with the Research Question"
      ]
    },
    {
      "cell_type": "markdown",
      "metadata": {
        "id": "LgFADjSxkAzD"
      },
      "source": [
        "Coming up with a model that can be used to predict house prices"
      ]
    },
    {
      "cell_type": "markdown",
      "metadata": {
        "id": "29VmEtuXi09h"
      },
      "source": [
        "b) Cleaning the Dataset"
      ]
    },
    {
      "cell_type": "markdown",
      "metadata": {
        "id": "pQVaQhX5jfdc"
      },
      "source": [
        "- Consistency\n",
        "- Completeness\n",
        "- Validity\n",
        "- Uniformity\n",
        "- Anomalies"
      ]
    },
    {
      "cell_type": "markdown",
      "metadata": {
        "id": "ake9PXjMi4O9"
      },
      "source": [
        "c) Carrying out Univariate, Bivariate and Multivariate Analysis "
      ]
    },
    {
      "cell_type": "markdown",
      "metadata": {
        "id": "CFr1OB1JjCxA"
      },
      "source": [
        "d) Modelling to get the predicition "
      ]
    },
    {
      "cell_type": "markdown",
      "metadata": {
        "id": "wa1uwDCVjMIW"
      },
      "source": [
        "3. Metrics of Success"
      ]
    },
    {
      "cell_type": "markdown",
      "metadata": {
        "id": "hmXkh0sWjWk7"
      },
      "source": [
        "- To get the model with the least error and the highest R-squared score"
      ]
    },
    {
      "cell_type": "markdown",
      "metadata": {
        "id": "Z8yIuK-RjRAZ"
      },
      "source": [
        "4. Relevance of the Dataset"
      ]
    },
    {
      "cell_type": "markdown",
      "metadata": {
        "id": "zPVIT7jGkORm"
      },
      "source": [
        "- The data provided has some features that can be used to preict house prices\n",
        "-The dataset to use for this project can be found by following this link: [http://bit.ly/IndependentProjectWeek7Dataset]."
      ]
    },
    {
      "cell_type": "markdown",
      "metadata": {
        "id": "Fz2lbbFRV0x6"
      },
      "source": [
        "# IMPORTING THE LIBRARIES TO USE"
      ]
    },
    {
      "cell_type": "code",
      "metadata": {
        "colab": {
          "base_uri": "https://localhost:8080/"
        },
        "id": "4y6jNPEIV7Q-",
        "outputId": "622dd02b-9f49-4858-da05-86a141f8ab29"
      },
      "source": [
        "#libraries to load the dataset and do data cleaning\n",
        "import pandas as pd\n",
        "import numpy as np\n",
        "#libraries used for plotting\n",
        "import matplotlib.pyplot as plt\n",
        "import seaborn as sns\n",
        "#libraries used for features reduction\n",
        "from sklearn.discriminant_analysis import LinearDiscriminantAnalysis as LDA\n",
        "\n",
        "#libraries to split the data and do cross validation\n",
        "from sklearn.model_selection import train_test_split #libraries used to split the data into train and test\n",
        "from sklearn.model_selection import KFold #library used for cross validation\n",
        "from sklearn.model_selection import cross_val_score  #library used for cross validation\n",
        "\n",
        "\n",
        "#libraries used for modelling\n",
        "from sklearn.linear_model import LinearRegression\n",
        "from sklearn.linear_model import Ridge\n",
        "from sklearn.linear_model import Lasso\n",
        "from sklearn.linear_model import ElasticNet\n",
        "import statsmodels.formula.api as smf\n",
        "\n",
        "#libraries used to measure the performance of the model\n",
        "from sklearn.metrics import r2_score\n",
        "from sklearn.metrics import mean_squared_error\n",
        "\n",
        "import warnings\n",
        "\n",
        "warnings.filterwarnings('ignore')"
      ],
      "execution_count": 1,
      "outputs": [
        {
          "output_type": "stream",
          "text": [
            "/usr/local/lib/python3.7/dist-packages/statsmodels/tools/_testing.py:19: FutureWarning: pandas.util.testing is deprecated. Use the functions in the public API at pandas.testing instead.\n",
            "  import pandas.util.testing as tm\n"
          ],
          "name": "stderr"
        }
      ]
    },
    {
      "cell_type": "markdown",
      "metadata": {
        "id": "cFzWyOzdVv4w"
      },
      "source": [
        "# IMPORTING THE DATASET"
      ]
    },
    {
      "cell_type": "code",
      "metadata": {
        "id": "D1xUBsqnV4_V"
      },
      "source": [
        "df=pd.read_csv('http://bit.ly/IndependentProjectWeek7Dataset')"
      ],
      "execution_count": 2,
      "outputs": []
    },
    {
      "cell_type": "markdown",
      "metadata": {
        "id": "aSuqDKuVYNp7"
      },
      "source": [
        "## preview of the dataset and its features"
      ]
    },
    {
      "cell_type": "code",
      "metadata": {
        "colab": {
          "base_uri": "https://localhost:8080/",
          "height": 224
        },
        "id": "-SH4Z1QXYYLw",
        "outputId": "1dbad8bc-da91-45fc-e93a-84663879d593"
      },
      "source": [
        "#the first 5 rows of the datset\n",
        "df.head()"
      ],
      "execution_count": 3,
      "outputs": [
        {
          "output_type": "execute_result",
          "data": {
            "text/html": [
              "<div>\n",
              "<style scoped>\n",
              "    .dataframe tbody tr th:only-of-type {\n",
              "        vertical-align: middle;\n",
              "    }\n",
              "\n",
              "    .dataframe tbody tr th {\n",
              "        vertical-align: top;\n",
              "    }\n",
              "\n",
              "    .dataframe thead th {\n",
              "        text-align: right;\n",
              "    }\n",
              "</style>\n",
              "<table border=\"1\" class=\"dataframe\">\n",
              "  <thead>\n",
              "    <tr style=\"text-align: right;\">\n",
              "      <th></th>\n",
              "      <th>id</th>\n",
              "      <th>price</th>\n",
              "      <th>bedrooms</th>\n",
              "      <th>bathrooms</th>\n",
              "      <th>sqft_living</th>\n",
              "      <th>sqft_lot</th>\n",
              "      <th>floors</th>\n",
              "      <th>waterfront</th>\n",
              "      <th>view</th>\n",
              "      <th>condition</th>\n",
              "      <th>grade</th>\n",
              "      <th>sqft_above</th>\n",
              "      <th>sqft_basement</th>\n",
              "      <th>yr_built</th>\n",
              "      <th>yr_renovated</th>\n",
              "      <th>zipcode</th>\n",
              "      <th>lat</th>\n",
              "      <th>long</th>\n",
              "      <th>sqft_living15</th>\n",
              "      <th>sqft_lot15</th>\n",
              "    </tr>\n",
              "  </thead>\n",
              "  <tbody>\n",
              "    <tr>\n",
              "      <th>0</th>\n",
              "      <td>7129300520</td>\n",
              "      <td>221900.0</td>\n",
              "      <td>3</td>\n",
              "      <td>1.00</td>\n",
              "      <td>1180</td>\n",
              "      <td>5650</td>\n",
              "      <td>1.0</td>\n",
              "      <td>0</td>\n",
              "      <td>0</td>\n",
              "      <td>3</td>\n",
              "      <td>7</td>\n",
              "      <td>1180</td>\n",
              "      <td>0</td>\n",
              "      <td>1955</td>\n",
              "      <td>0</td>\n",
              "      <td>98178</td>\n",
              "      <td>47.5112</td>\n",
              "      <td>-122.257</td>\n",
              "      <td>1340</td>\n",
              "      <td>5650</td>\n",
              "    </tr>\n",
              "    <tr>\n",
              "      <th>1</th>\n",
              "      <td>6414100192</td>\n",
              "      <td>538000.0</td>\n",
              "      <td>3</td>\n",
              "      <td>2.25</td>\n",
              "      <td>2570</td>\n",
              "      <td>7242</td>\n",
              "      <td>2.0</td>\n",
              "      <td>0</td>\n",
              "      <td>0</td>\n",
              "      <td>3</td>\n",
              "      <td>7</td>\n",
              "      <td>2170</td>\n",
              "      <td>400</td>\n",
              "      <td>1951</td>\n",
              "      <td>1991</td>\n",
              "      <td>98125</td>\n",
              "      <td>47.7210</td>\n",
              "      <td>-122.319</td>\n",
              "      <td>1690</td>\n",
              "      <td>7639</td>\n",
              "    </tr>\n",
              "    <tr>\n",
              "      <th>2</th>\n",
              "      <td>5631500400</td>\n",
              "      <td>180000.0</td>\n",
              "      <td>2</td>\n",
              "      <td>1.00</td>\n",
              "      <td>770</td>\n",
              "      <td>10000</td>\n",
              "      <td>1.0</td>\n",
              "      <td>0</td>\n",
              "      <td>0</td>\n",
              "      <td>3</td>\n",
              "      <td>6</td>\n",
              "      <td>770</td>\n",
              "      <td>0</td>\n",
              "      <td>1933</td>\n",
              "      <td>0</td>\n",
              "      <td>98028</td>\n",
              "      <td>47.7379</td>\n",
              "      <td>-122.233</td>\n",
              "      <td>2720</td>\n",
              "      <td>8062</td>\n",
              "    </tr>\n",
              "    <tr>\n",
              "      <th>3</th>\n",
              "      <td>2487200875</td>\n",
              "      <td>604000.0</td>\n",
              "      <td>4</td>\n",
              "      <td>3.00</td>\n",
              "      <td>1960</td>\n",
              "      <td>5000</td>\n",
              "      <td>1.0</td>\n",
              "      <td>0</td>\n",
              "      <td>0</td>\n",
              "      <td>5</td>\n",
              "      <td>7</td>\n",
              "      <td>1050</td>\n",
              "      <td>910</td>\n",
              "      <td>1965</td>\n",
              "      <td>0</td>\n",
              "      <td>98136</td>\n",
              "      <td>47.5208</td>\n",
              "      <td>-122.393</td>\n",
              "      <td>1360</td>\n",
              "      <td>5000</td>\n",
              "    </tr>\n",
              "    <tr>\n",
              "      <th>4</th>\n",
              "      <td>1954400510</td>\n",
              "      <td>510000.0</td>\n",
              "      <td>3</td>\n",
              "      <td>2.00</td>\n",
              "      <td>1680</td>\n",
              "      <td>8080</td>\n",
              "      <td>1.0</td>\n",
              "      <td>0</td>\n",
              "      <td>0</td>\n",
              "      <td>3</td>\n",
              "      <td>8</td>\n",
              "      <td>1680</td>\n",
              "      <td>0</td>\n",
              "      <td>1987</td>\n",
              "      <td>0</td>\n",
              "      <td>98074</td>\n",
              "      <td>47.6168</td>\n",
              "      <td>-122.045</td>\n",
              "      <td>1800</td>\n",
              "      <td>7503</td>\n",
              "    </tr>\n",
              "  </tbody>\n",
              "</table>\n",
              "</div>"
            ],
            "text/plain": [
              "           id     price  bedrooms  ...     long  sqft_living15  sqft_lot15\n",
              "0  7129300520  221900.0         3  ... -122.257           1340        5650\n",
              "1  6414100192  538000.0         3  ... -122.319           1690        7639\n",
              "2  5631500400  180000.0         2  ... -122.233           2720        8062\n",
              "3  2487200875  604000.0         4  ... -122.393           1360        5000\n",
              "4  1954400510  510000.0         3  ... -122.045           1800        7503\n",
              "\n",
              "[5 rows x 20 columns]"
            ]
          },
          "metadata": {
            "tags": []
          },
          "execution_count": 3
        }
      ]
    },
    {
      "cell_type": "code",
      "metadata": {
        "colab": {
          "base_uri": "https://localhost:8080/",
          "height": 224
        },
        "id": "CX481SCpYd7D",
        "outputId": "ac0646b5-a395-43cf-a3ed-b0d3393348e5"
      },
      "source": [
        "#the last 5 rows of the dataset\n",
        "df.tail()"
      ],
      "execution_count": 4,
      "outputs": [
        {
          "output_type": "execute_result",
          "data": {
            "text/html": [
              "<div>\n",
              "<style scoped>\n",
              "    .dataframe tbody tr th:only-of-type {\n",
              "        vertical-align: middle;\n",
              "    }\n",
              "\n",
              "    .dataframe tbody tr th {\n",
              "        vertical-align: top;\n",
              "    }\n",
              "\n",
              "    .dataframe thead th {\n",
              "        text-align: right;\n",
              "    }\n",
              "</style>\n",
              "<table border=\"1\" class=\"dataframe\">\n",
              "  <thead>\n",
              "    <tr style=\"text-align: right;\">\n",
              "      <th></th>\n",
              "      <th>id</th>\n",
              "      <th>price</th>\n",
              "      <th>bedrooms</th>\n",
              "      <th>bathrooms</th>\n",
              "      <th>sqft_living</th>\n",
              "      <th>sqft_lot</th>\n",
              "      <th>floors</th>\n",
              "      <th>waterfront</th>\n",
              "      <th>view</th>\n",
              "      <th>condition</th>\n",
              "      <th>grade</th>\n",
              "      <th>sqft_above</th>\n",
              "      <th>sqft_basement</th>\n",
              "      <th>yr_built</th>\n",
              "      <th>yr_renovated</th>\n",
              "      <th>zipcode</th>\n",
              "      <th>lat</th>\n",
              "      <th>long</th>\n",
              "      <th>sqft_living15</th>\n",
              "      <th>sqft_lot15</th>\n",
              "    </tr>\n",
              "  </thead>\n",
              "  <tbody>\n",
              "    <tr>\n",
              "      <th>21608</th>\n",
              "      <td>263000018</td>\n",
              "      <td>360000.0</td>\n",
              "      <td>3</td>\n",
              "      <td>2.50</td>\n",
              "      <td>1530</td>\n",
              "      <td>1131</td>\n",
              "      <td>3.0</td>\n",
              "      <td>0</td>\n",
              "      <td>0</td>\n",
              "      <td>3</td>\n",
              "      <td>8</td>\n",
              "      <td>1530</td>\n",
              "      <td>0</td>\n",
              "      <td>2009</td>\n",
              "      <td>0</td>\n",
              "      <td>98103</td>\n",
              "      <td>47.6993</td>\n",
              "      <td>-122.346</td>\n",
              "      <td>1530</td>\n",
              "      <td>1509</td>\n",
              "    </tr>\n",
              "    <tr>\n",
              "      <th>21609</th>\n",
              "      <td>6600060120</td>\n",
              "      <td>400000.0</td>\n",
              "      <td>4</td>\n",
              "      <td>2.50</td>\n",
              "      <td>2310</td>\n",
              "      <td>5813</td>\n",
              "      <td>2.0</td>\n",
              "      <td>0</td>\n",
              "      <td>0</td>\n",
              "      <td>3</td>\n",
              "      <td>8</td>\n",
              "      <td>2310</td>\n",
              "      <td>0</td>\n",
              "      <td>2014</td>\n",
              "      <td>0</td>\n",
              "      <td>98146</td>\n",
              "      <td>47.5107</td>\n",
              "      <td>-122.362</td>\n",
              "      <td>1830</td>\n",
              "      <td>7200</td>\n",
              "    </tr>\n",
              "    <tr>\n",
              "      <th>21610</th>\n",
              "      <td>1523300141</td>\n",
              "      <td>402101.0</td>\n",
              "      <td>2</td>\n",
              "      <td>0.75</td>\n",
              "      <td>1020</td>\n",
              "      <td>1350</td>\n",
              "      <td>2.0</td>\n",
              "      <td>0</td>\n",
              "      <td>0</td>\n",
              "      <td>3</td>\n",
              "      <td>7</td>\n",
              "      <td>1020</td>\n",
              "      <td>0</td>\n",
              "      <td>2009</td>\n",
              "      <td>0</td>\n",
              "      <td>98144</td>\n",
              "      <td>47.5944</td>\n",
              "      <td>-122.299</td>\n",
              "      <td>1020</td>\n",
              "      <td>2007</td>\n",
              "    </tr>\n",
              "    <tr>\n",
              "      <th>21611</th>\n",
              "      <td>291310100</td>\n",
              "      <td>400000.0</td>\n",
              "      <td>3</td>\n",
              "      <td>2.50</td>\n",
              "      <td>1600</td>\n",
              "      <td>2388</td>\n",
              "      <td>2.0</td>\n",
              "      <td>0</td>\n",
              "      <td>0</td>\n",
              "      <td>3</td>\n",
              "      <td>8</td>\n",
              "      <td>1600</td>\n",
              "      <td>0</td>\n",
              "      <td>2004</td>\n",
              "      <td>0</td>\n",
              "      <td>98027</td>\n",
              "      <td>47.5345</td>\n",
              "      <td>-122.069</td>\n",
              "      <td>1410</td>\n",
              "      <td>1287</td>\n",
              "    </tr>\n",
              "    <tr>\n",
              "      <th>21612</th>\n",
              "      <td>1523300157</td>\n",
              "      <td>325000.0</td>\n",
              "      <td>2</td>\n",
              "      <td>0.75</td>\n",
              "      <td>1020</td>\n",
              "      <td>1076</td>\n",
              "      <td>2.0</td>\n",
              "      <td>0</td>\n",
              "      <td>0</td>\n",
              "      <td>3</td>\n",
              "      <td>7</td>\n",
              "      <td>1020</td>\n",
              "      <td>0</td>\n",
              "      <td>2008</td>\n",
              "      <td>0</td>\n",
              "      <td>98144</td>\n",
              "      <td>47.5941</td>\n",
              "      <td>-122.299</td>\n",
              "      <td>1020</td>\n",
              "      <td>1357</td>\n",
              "    </tr>\n",
              "  </tbody>\n",
              "</table>\n",
              "</div>"
            ],
            "text/plain": [
              "               id     price  bedrooms  ...     long  sqft_living15  sqft_lot15\n",
              "21608   263000018  360000.0         3  ... -122.346           1530        1509\n",
              "21609  6600060120  400000.0         4  ... -122.362           1830        7200\n",
              "21610  1523300141  402101.0         2  ... -122.299           1020        2007\n",
              "21611   291310100  400000.0         3  ... -122.069           1410        1287\n",
              "21612  1523300157  325000.0         2  ... -122.299           1020        1357\n",
              "\n",
              "[5 rows x 20 columns]"
            ]
          },
          "metadata": {
            "tags": []
          },
          "execution_count": 4
        }
      ]
    },
    {
      "cell_type": "code",
      "metadata": {
        "colab": {
          "base_uri": "https://localhost:8080/"
        },
        "id": "Hs9sG5I4Ytx2",
        "outputId": "21983490-f553-4204-8b6f-f3e58cdfb9f0"
      },
      "source": [
        "#looking at the shape of the dataset\n",
        "print('shape of the dataset',df.shape) \n",
        "\n",
        "print('the dataset has ' + str(df.shape[0]) + ' rows and ' + str(df.shape[1]) + ' columns')"
      ],
      "execution_count": 5,
      "outputs": [
        {
          "output_type": "stream",
          "text": [
            "shape of the dataset (21613, 20)\n",
            "the dataset has 21613 rows and 20 columns\n"
          ],
          "name": "stdout"
        }
      ]
    },
    {
      "cell_type": "code",
      "metadata": {
        "colab": {
          "base_uri": "https://localhost:8080/"
        },
        "id": "jC4FR4lmYxTF",
        "outputId": "b995e985-b6ab-41f9-a4bd-c7a77de5c01d"
      },
      "source": [
        "#looking at the datatypes of the columns and the number of observations in each of the columns\n",
        "df.info()"
      ],
      "execution_count": 6,
      "outputs": [
        {
          "output_type": "stream",
          "text": [
            "<class 'pandas.core.frame.DataFrame'>\n",
            "RangeIndex: 21613 entries, 0 to 21612\n",
            "Data columns (total 20 columns):\n",
            " #   Column         Non-Null Count  Dtype  \n",
            "---  ------         --------------  -----  \n",
            " 0   id             21613 non-null  int64  \n",
            " 1   price          21613 non-null  float64\n",
            " 2   bedrooms       21613 non-null  int64  \n",
            " 3   bathrooms      21613 non-null  float64\n",
            " 4   sqft_living    21613 non-null  int64  \n",
            " 5   sqft_lot       21613 non-null  int64  \n",
            " 6   floors         21613 non-null  float64\n",
            " 7   waterfront     21613 non-null  int64  \n",
            " 8   view           21613 non-null  int64  \n",
            " 9   condition      21613 non-null  int64  \n",
            " 10  grade          21613 non-null  int64  \n",
            " 11  sqft_above     21613 non-null  int64  \n",
            " 12  sqft_basement  21613 non-null  int64  \n",
            " 13  yr_built       21613 non-null  int64  \n",
            " 14  yr_renovated   21613 non-null  int64  \n",
            " 15  zipcode        21613 non-null  int64  \n",
            " 16  lat            21613 non-null  float64\n",
            " 17  long           21613 non-null  float64\n",
            " 18  sqft_living15  21613 non-null  int64  \n",
            " 19  sqft_lot15     21613 non-null  int64  \n",
            "dtypes: float64(5), int64(15)\n",
            "memory usage: 3.3 MB\n"
          ],
          "name": "stdout"
        }
      ]
    },
    {
      "cell_type": "code",
      "metadata": {
        "colab": {
          "base_uri": "https://localhost:8080/",
          "height": 514
        },
        "id": "W_yeJbvRcYgd",
        "outputId": "5a5e4a7f-a8b0-42ed-aeff-fc71c1d9ab7a"
      },
      "source": [
        "df.drop(['id','lat','long','zipcode','yr_built'],axis=1).describe().T"
      ],
      "execution_count": 7,
      "outputs": [
        {
          "output_type": "execute_result",
          "data": {
            "text/html": [
              "<div>\n",
              "<style scoped>\n",
              "    .dataframe tbody tr th:only-of-type {\n",
              "        vertical-align: middle;\n",
              "    }\n",
              "\n",
              "    .dataframe tbody tr th {\n",
              "        vertical-align: top;\n",
              "    }\n",
              "\n",
              "    .dataframe thead th {\n",
              "        text-align: right;\n",
              "    }\n",
              "</style>\n",
              "<table border=\"1\" class=\"dataframe\">\n",
              "  <thead>\n",
              "    <tr style=\"text-align: right;\">\n",
              "      <th></th>\n",
              "      <th>count</th>\n",
              "      <th>mean</th>\n",
              "      <th>std</th>\n",
              "      <th>min</th>\n",
              "      <th>25%</th>\n",
              "      <th>50%</th>\n",
              "      <th>75%</th>\n",
              "      <th>max</th>\n",
              "    </tr>\n",
              "  </thead>\n",
              "  <tbody>\n",
              "    <tr>\n",
              "      <th>price</th>\n",
              "      <td>21613.0</td>\n",
              "      <td>540182.158793</td>\n",
              "      <td>367362.231718</td>\n",
              "      <td>75000.0</td>\n",
              "      <td>321950.00</td>\n",
              "      <td>450000.00</td>\n",
              "      <td>645000.0</td>\n",
              "      <td>7700000.0</td>\n",
              "    </tr>\n",
              "    <tr>\n",
              "      <th>bedrooms</th>\n",
              "      <td>21613.0</td>\n",
              "      <td>3.370842</td>\n",
              "      <td>0.930062</td>\n",
              "      <td>0.0</td>\n",
              "      <td>3.00</td>\n",
              "      <td>3.00</td>\n",
              "      <td>4.0</td>\n",
              "      <td>33.0</td>\n",
              "    </tr>\n",
              "    <tr>\n",
              "      <th>bathrooms</th>\n",
              "      <td>21613.0</td>\n",
              "      <td>2.114757</td>\n",
              "      <td>0.770163</td>\n",
              "      <td>0.0</td>\n",
              "      <td>1.75</td>\n",
              "      <td>2.25</td>\n",
              "      <td>2.5</td>\n",
              "      <td>8.0</td>\n",
              "    </tr>\n",
              "    <tr>\n",
              "      <th>sqft_living</th>\n",
              "      <td>21613.0</td>\n",
              "      <td>2079.899736</td>\n",
              "      <td>918.440897</td>\n",
              "      <td>290.0</td>\n",
              "      <td>1427.00</td>\n",
              "      <td>1910.00</td>\n",
              "      <td>2550.0</td>\n",
              "      <td>13540.0</td>\n",
              "    </tr>\n",
              "    <tr>\n",
              "      <th>sqft_lot</th>\n",
              "      <td>21613.0</td>\n",
              "      <td>15106.967566</td>\n",
              "      <td>41420.511515</td>\n",
              "      <td>520.0</td>\n",
              "      <td>5040.00</td>\n",
              "      <td>7618.00</td>\n",
              "      <td>10688.0</td>\n",
              "      <td>1651359.0</td>\n",
              "    </tr>\n",
              "    <tr>\n",
              "      <th>floors</th>\n",
              "      <td>21613.0</td>\n",
              "      <td>1.494309</td>\n",
              "      <td>0.539989</td>\n",
              "      <td>1.0</td>\n",
              "      <td>1.00</td>\n",
              "      <td>1.50</td>\n",
              "      <td>2.0</td>\n",
              "      <td>3.5</td>\n",
              "    </tr>\n",
              "    <tr>\n",
              "      <th>waterfront</th>\n",
              "      <td>21613.0</td>\n",
              "      <td>0.007542</td>\n",
              "      <td>0.086517</td>\n",
              "      <td>0.0</td>\n",
              "      <td>0.00</td>\n",
              "      <td>0.00</td>\n",
              "      <td>0.0</td>\n",
              "      <td>1.0</td>\n",
              "    </tr>\n",
              "    <tr>\n",
              "      <th>view</th>\n",
              "      <td>21613.0</td>\n",
              "      <td>0.234303</td>\n",
              "      <td>0.766318</td>\n",
              "      <td>0.0</td>\n",
              "      <td>0.00</td>\n",
              "      <td>0.00</td>\n",
              "      <td>0.0</td>\n",
              "      <td>4.0</td>\n",
              "    </tr>\n",
              "    <tr>\n",
              "      <th>condition</th>\n",
              "      <td>21613.0</td>\n",
              "      <td>3.409430</td>\n",
              "      <td>0.650743</td>\n",
              "      <td>1.0</td>\n",
              "      <td>3.00</td>\n",
              "      <td>3.00</td>\n",
              "      <td>4.0</td>\n",
              "      <td>5.0</td>\n",
              "    </tr>\n",
              "    <tr>\n",
              "      <th>grade</th>\n",
              "      <td>21613.0</td>\n",
              "      <td>7.656873</td>\n",
              "      <td>1.175459</td>\n",
              "      <td>1.0</td>\n",
              "      <td>7.00</td>\n",
              "      <td>7.00</td>\n",
              "      <td>8.0</td>\n",
              "      <td>13.0</td>\n",
              "    </tr>\n",
              "    <tr>\n",
              "      <th>sqft_above</th>\n",
              "      <td>21613.0</td>\n",
              "      <td>1788.390691</td>\n",
              "      <td>828.090978</td>\n",
              "      <td>290.0</td>\n",
              "      <td>1190.00</td>\n",
              "      <td>1560.00</td>\n",
              "      <td>2210.0</td>\n",
              "      <td>9410.0</td>\n",
              "    </tr>\n",
              "    <tr>\n",
              "      <th>sqft_basement</th>\n",
              "      <td>21613.0</td>\n",
              "      <td>291.509045</td>\n",
              "      <td>442.575043</td>\n",
              "      <td>0.0</td>\n",
              "      <td>0.00</td>\n",
              "      <td>0.00</td>\n",
              "      <td>560.0</td>\n",
              "      <td>4820.0</td>\n",
              "    </tr>\n",
              "    <tr>\n",
              "      <th>yr_renovated</th>\n",
              "      <td>21613.0</td>\n",
              "      <td>84.402258</td>\n",
              "      <td>401.679240</td>\n",
              "      <td>0.0</td>\n",
              "      <td>0.00</td>\n",
              "      <td>0.00</td>\n",
              "      <td>0.0</td>\n",
              "      <td>2015.0</td>\n",
              "    </tr>\n",
              "    <tr>\n",
              "      <th>sqft_living15</th>\n",
              "      <td>21613.0</td>\n",
              "      <td>1986.552492</td>\n",
              "      <td>685.391304</td>\n",
              "      <td>399.0</td>\n",
              "      <td>1490.00</td>\n",
              "      <td>1840.00</td>\n",
              "      <td>2360.0</td>\n",
              "      <td>6210.0</td>\n",
              "    </tr>\n",
              "    <tr>\n",
              "      <th>sqft_lot15</th>\n",
              "      <td>21613.0</td>\n",
              "      <td>12768.455652</td>\n",
              "      <td>27304.179631</td>\n",
              "      <td>651.0</td>\n",
              "      <td>5100.00</td>\n",
              "      <td>7620.00</td>\n",
              "      <td>10083.0</td>\n",
              "      <td>871200.0</td>\n",
              "    </tr>\n",
              "  </tbody>\n",
              "</table>\n",
              "</div>"
            ],
            "text/plain": [
              "                 count           mean  ...       75%        max\n",
              "price          21613.0  540182.158793  ...  645000.0  7700000.0\n",
              "bedrooms       21613.0       3.370842  ...       4.0       33.0\n",
              "bathrooms      21613.0       2.114757  ...       2.5        8.0\n",
              "sqft_living    21613.0    2079.899736  ...    2550.0    13540.0\n",
              "sqft_lot       21613.0   15106.967566  ...   10688.0  1651359.0\n",
              "floors         21613.0       1.494309  ...       2.0        3.5\n",
              "waterfront     21613.0       0.007542  ...       0.0        1.0\n",
              "view           21613.0       0.234303  ...       0.0        4.0\n",
              "condition      21613.0       3.409430  ...       4.0        5.0\n",
              "grade          21613.0       7.656873  ...       8.0       13.0\n",
              "sqft_above     21613.0    1788.390691  ...    2210.0     9410.0\n",
              "sqft_basement  21613.0     291.509045  ...     560.0     4820.0\n",
              "yr_renovated   21613.0      84.402258  ...       0.0     2015.0\n",
              "sqft_living15  21613.0    1986.552492  ...    2360.0     6210.0\n",
              "sqft_lot15     21613.0   12768.455652  ...   10083.0   871200.0\n",
              "\n",
              "[15 rows x 8 columns]"
            ]
          },
          "metadata": {
            "tags": []
          },
          "execution_count": 7
        }
      ]
    },
    {
      "cell_type": "code",
      "metadata": {
        "colab": {
          "base_uri": "https://localhost:8080/"
        },
        "id": "qrC6-qGibFaU",
        "outputId": "0ad321f6-362e-470c-9306-cf7b8e0b64af"
      },
      "source": [
        "#we will look for number of unique observations in each of the columns\n",
        "for i in df:\n",
        "  print(i,df[i].nunique())\n",
        "  print('\\n')"
      ],
      "execution_count": 8,
      "outputs": [
        {
          "output_type": "stream",
          "text": [
            "id 21436\n",
            "\n",
            "\n",
            "price 3625\n",
            "\n",
            "\n",
            "bedrooms 13\n",
            "\n",
            "\n",
            "bathrooms 30\n",
            "\n",
            "\n",
            "sqft_living 1038\n",
            "\n",
            "\n",
            "sqft_lot 9782\n",
            "\n",
            "\n",
            "floors 6\n",
            "\n",
            "\n",
            "waterfront 2\n",
            "\n",
            "\n",
            "view 5\n",
            "\n",
            "\n",
            "condition 5\n",
            "\n",
            "\n",
            "grade 12\n",
            "\n",
            "\n",
            "sqft_above 946\n",
            "\n",
            "\n",
            "sqft_basement 306\n",
            "\n",
            "\n",
            "yr_built 116\n",
            "\n",
            "\n",
            "yr_renovated 70\n",
            "\n",
            "\n",
            "zipcode 70\n",
            "\n",
            "\n",
            "lat 5034\n",
            "\n",
            "\n",
            "long 752\n",
            "\n",
            "\n",
            "sqft_living15 777\n",
            "\n",
            "\n",
            "sqft_lot15 8689\n",
            "\n",
            "\n"
          ],
          "name": "stdout"
        }
      ]
    },
    {
      "cell_type": "code",
      "metadata": {
        "colab": {
          "base_uri": "https://localhost:8080/"
        },
        "id": "H4TLDTROdTym",
        "outputId": "dfc83833-0907-4b86-f24c-bce9e2571b67"
      },
      "source": [
        "cols=df[['view','floors','waterfront','condition','grade','yr_built','yr_renovated']]\n",
        "for i in cols:\n",
        "  print(i,cols[i].unique())\n",
        "  print('\\n')"
      ],
      "execution_count": 9,
      "outputs": [
        {
          "output_type": "stream",
          "text": [
            "view [0 3 4 2 1]\n",
            "\n",
            "\n",
            "floors [1.  2.  1.5 3.  2.5 3.5]\n",
            "\n",
            "\n",
            "waterfront [0 1]\n",
            "\n",
            "\n",
            "condition [3 5 4 1 2]\n",
            "\n",
            "\n",
            "grade [ 7  6  8 11  9  5 10 12  4  3 13  1]\n",
            "\n",
            "\n",
            "yr_built [1955 1951 1933 1965 1987 2001 1995 1963 1960 2003 1942 1927 1977 1900\n",
            " 1979 1994 1916 1921 1969 1947 1968 1985 1941 1915 1909 1948 2005 1929\n",
            " 1981 1930 1904 1996 2000 1984 2014 1922 1959 1966 1953 1950 2008 1991\n",
            " 1954 1973 1925 1989 1972 1986 1956 2002 1992 1964 1952 1961 2006 1988\n",
            " 1962 1939 1946 1967 1975 1980 1910 1983 1978 1905 1971 2010 1945 1924\n",
            " 1990 1914 1926 2004 1923 2007 1976 1949 1999 1901 1993 1920 1997 1943\n",
            " 1957 1940 1918 1928 1974 1911 1936 1937 1982 1908 1931 1998 1913 2013\n",
            " 1907 1958 2012 1912 2011 1917 1932 1944 1902 2009 1903 1970 2015 1934\n",
            " 1938 1919 1906 1935]\n",
            "\n",
            "\n",
            "yr_renovated [   0 1991 2002 2010 1999 1992 2013 1994 1978 2005 2008 2003 1984 1954\n",
            " 2014 2011 1974 1983 1945 1990 1988 1957 1977 1981 1995 2000 1998 1970\n",
            " 1989 2004 1986 2009 2007 1987 1973 2006 1985 2001 1980 1971 1979 1997\n",
            " 1950 1969 1948 2015 1968 2012 1963 1951 1993 1962 1996 1972 1953 1955\n",
            " 1982 1956 1940 1976 1946 1975 1958 1964 1959 1960 1967 1965 1934 1944]\n",
            "\n",
            "\n"
          ],
          "name": "stdout"
        }
      ]
    },
    {
      "cell_type": "markdown",
      "metadata": {
        "id": "92VUtja8Zj9W"
      },
      "source": [
        "# DATA CLEANING"
      ]
    },
    {
      "cell_type": "markdown",
      "metadata": {
        "id": "iLQQbc6iZmfR"
      },
      "source": [
        "## Consistency"
      ]
    },
    {
      "cell_type": "code",
      "metadata": {
        "colab": {
          "base_uri": "https://localhost:8080/"
        },
        "id": "iU5vOi1oZyGc",
        "outputId": "fbdb84ca-3b0e-41db-e4c7-242bf1055f55"
      },
      "source": [
        "#we will look for duplicated rows in the dataset\n",
        "print('number of duplicated rows in the dataset: ',df.duplicated().sum())\n",
        "\n",
        "#we will drop the duplicated rows and only retain the first record\n",
        "df.drop_duplicates(keep='first',inplace=True)"
      ],
      "execution_count": 10,
      "outputs": [
        {
          "output_type": "stream",
          "text": [
            "number of duplicated rows in the dataset:  3\n"
          ],
          "name": "stdout"
        }
      ]
    },
    {
      "cell_type": "markdown",
      "metadata": {
        "id": "t6a1AcXYZqtt"
      },
      "source": [
        "## completness"
      ]
    },
    {
      "cell_type": "code",
      "metadata": {
        "colab": {
          "base_uri": "https://localhost:8080/"
        },
        "id": "N8cjnbYIagXY",
        "outputId": "f4c4f886-8ab9-4628-eaf5-75487918c752"
      },
      "source": [
        "# we will look for columns with missing values\n",
        "df.isna().sum()\n",
        "\n",
        "#the columns in the dataset have no missing values\n",
        "#this is a clean dataset"
      ],
      "execution_count": 11,
      "outputs": [
        {
          "output_type": "execute_result",
          "data": {
            "text/plain": [
              "id               0\n",
              "price            0\n",
              "bedrooms         0\n",
              "bathrooms        0\n",
              "sqft_living      0\n",
              "sqft_lot         0\n",
              "floors           0\n",
              "waterfront       0\n",
              "view             0\n",
              "condition        0\n",
              "grade            0\n",
              "sqft_above       0\n",
              "sqft_basement    0\n",
              "yr_built         0\n",
              "yr_renovated     0\n",
              "zipcode          0\n",
              "lat              0\n",
              "long             0\n",
              "sqft_living15    0\n",
              "sqft_lot15       0\n",
              "dtype: int64"
            ]
          },
          "metadata": {
            "tags": []
          },
          "execution_count": 11
        }
      ]
    },
    {
      "cell_type": "markdown",
      "metadata": {
        "id": "yCrneR2zZs47"
      },
      "source": [
        "## validity"
      ]
    },
    {
      "cell_type": "code",
      "metadata": {
        "colab": {
          "base_uri": "https://localhost:8080/",
          "height": 1000
        },
        "id": "KCNbMEUbavWo",
        "outputId": "0cc1d1f3-b3ed-43a8-8961-2adfb4bfbdfd"
      },
      "source": [
        "#we will look for outliers in the dataset\n",
        "cols=df[['price','bedrooms','bathrooms','sqft_living','sqft_lot','sqft_lot15','sqft_living15']]\n",
        "for i in cols:\n",
        "  fig, ax = plt.subplots(1,1, figsize=(10, 10))\n",
        "  plt.boxplot(cols[i])\n",
        "  ax.set_title('%s'%i)\n",
        "plt.show()"
      ],
      "execution_count": 12,
      "outputs": [
        {
          "output_type": "display_data",
          "data": {
            "image/png": "[encoded data removed]",
            "text/plain": [
              "<Figure size 720x720 with 1 Axes>"
            ]
          },
          "metadata": {
            "tags": [],
            "needs_background": "light"
          }
        },
        {
          "output_type": "display_data",
          "data": {
            "image/png": "[encoded data removed]",
            "text/plain": [
              "<Figure size 720x720 with 1 Axes>"
            ]
          },
          "metadata": {
            "tags": [],
            "needs_background": "light"
          }
        },
        {
          "output_type": "display_data",
          "data": {
            "image/png": "[encoded data removed]",
            "text/plain": [
              "<Figure size 720x720 with 1 Axes>"
            ]
          },
          "metadata": {
            "tags": [],
            "needs_background": "light"
          }
        },
        {
          "output_type": "display_data",
          "data": {
            "image/png": "[encoded data removed]",
            "text/plain": [
              "<Figure size 720x720 with 1 Axes>"
            ]
          },
          "metadata": {
            "tags": [],
            "needs_background": "light"
          }
        },
        {
          "output_type": "display_data",
          "data": {
            "image/png": "[encoded data removed]",
            "text/plain": [
              "<Figure size 720x720 with 1 Axes>"
            ]
          },
          "metadata": {
            "tags": [],
            "needs_background": "light"
          }
        },
        {
          "output_type": "display_data",
          "data": {
            "image/png": "[encoded data removed]",
            "text/plain": [
              "<Figure size 720x720 with 1 Axes>"
            ]
          },
          "metadata": {
            "tags": [],
            "needs_background": "light"
          }
        },
        {
          "output_type": "display_data",
          "data": {
            "image/png": "[encoded data removed]",
            "text/plain": [
              "<Figure size 720x720 with 1 Axes>"
            ]
          },
          "metadata": {
            "tags": [],
            "needs_background": "light"
          }
        }
      ]
    },
    {
      "cell_type": "code",
      "metadata": {
        "colab": {
          "base_uri": "https://localhost:8080/"
        },
        "id": "nkHvunpfhFEI",
        "outputId": "b7881dd3-c3c7-4515-ed1e-5a3aacd43318"
      },
      "source": [
        "# dealing with outliers\n",
        "# quantiles\n",
        "Q1 = df.quantile(0.25)\n",
        "Q3 = df.quantile(0.75)\n",
        "IQR = Q3 - Q1\n",
        "\n",
        "# Removing outliers based on the IQR range \n",
        "df1 = df[~((df < (Q1 - 1.5 * IQR)) | (df > (Q3 + 1.5 * IQR))).any(axis=1)]\n",
        "\n",
        "# Printing the shape of our new dataset\n",
        "print(df1.shape)\n",
        "\n",
        "# Printing the shape of our old dataset\n",
        "print(df.shape)"
      ],
      "execution_count": 13,
      "outputs": [
        {
          "output_type": "stream",
          "text": [
            "(14935, 20)\n",
            "(21610, 20)\n"
          ],
          "name": "stdout"
        }
      ]
    },
    {
      "cell_type": "code",
      "metadata": {
        "id": "jDbg8NOCgMBJ"
      },
      "source": [
        "df['price']=df['price'].astype(int)"
      ],
      "execution_count": 14,
      "outputs": []
    },
    {
      "cell_type": "code",
      "metadata": {
        "id": "TIgQ0Z-WphAv"
      },
      "source": [
        "#we will drop some columns that cannot be of help to us when prediciting house prices\n",
        "df.drop(['id','lat','long','zipcode'],axis=1,inplace=True)"
      ],
      "execution_count": 15,
      "outputs": []
    },
    {
      "cell_type": "code",
      "metadata": {
        "colab": {
          "base_uri": "https://localhost:8080/"
        },
        "id": "5_fuFEdPppzu",
        "outputId": "03762eae-90c4-4b77-bab3-2917f636d6aa"
      },
      "source": [
        "df.columns"
      ],
      "execution_count": 16,
      "outputs": [
        {
          "output_type": "execute_result",
          "data": {
            "text/plain": [
              "Index(['price', 'bedrooms', 'bathrooms', 'sqft_living', 'sqft_lot', 'floors',\n",
              "       'waterfront', 'view', 'condition', 'grade', 'sqft_above',\n",
              "       'sqft_basement', 'yr_built', 'yr_renovated', 'sqft_living15',\n",
              "       'sqft_lot15'],\n",
              "      dtype='object')"
            ]
          },
          "metadata": {
            "tags": []
          },
          "execution_count": 16
        }
      ]
    },
    {
      "cell_type": "markdown",
      "metadata": {
        "id": "xhE3vYGIZuYY"
      },
      "source": [
        "# uniformity"
      ]
    },
    {
      "cell_type": "code",
      "metadata": {
        "colab": {
          "base_uri": "https://localhost:8080/"
        },
        "id": "8dZolvbjnbcs",
        "outputId": "18cd2b2d-cda9-4e04-b979-eb3635794734"
      },
      "source": [
        "#removing whitespaces if there are any\n",
        "df.columns.str.strip()"
      ],
      "execution_count": 17,
      "outputs": [
        {
          "output_type": "execute_result",
          "data": {
            "text/plain": [
              "Index(['price', 'bedrooms', 'bathrooms', 'sqft_living', 'sqft_lot', 'floors',\n",
              "       'waterfront', 'view', 'condition', 'grade', 'sqft_above',\n",
              "       'sqft_basement', 'yr_built', 'yr_renovated', 'sqft_living15',\n",
              "       'sqft_lot15'],\n",
              "      dtype='object')"
            ]
          },
          "metadata": {
            "tags": []
          },
          "execution_count": 17
        }
      ]
    },
    {
      "cell_type": "markdown",
      "metadata": {
        "id": "lOxLCIpOnlnv"
      },
      "source": [
        "# EDA"
      ]
    },
    {
      "cell_type": "markdown",
      "metadata": {
        "id": "Dm8JwF3nns4g"
      },
      "source": [
        "## Univariate Analysis"
      ]
    },
    {
      "cell_type": "markdown",
      "metadata": {
        "id": "ZzZ_mnz0qZG8"
      },
      "source": [
        "##### price"
      ]
    },
    {
      "cell_type": "code",
      "metadata": {
        "colab": {
          "base_uri": "https://localhost:8080/"
        },
        "id": "jAQ8MAUXqaw2",
        "outputId": "dbed27e0-d8a1-41b4-faa7-4ab7367f6415"
      },
      "source": [
        "#get descriptive stats for the columns price\n",
        "df.price.describe()"
      ],
      "execution_count": 18,
      "outputs": [
        {
          "output_type": "execute_result",
          "data": {
            "text/plain": [
              "count    2.161000e+04\n",
              "mean     5.401789e+05\n",
              "std      3.673876e+05\n",
              "min      7.500000e+04\n",
              "25%      3.216125e+05\n",
              "50%      4.500000e+05\n",
              "75%      6.450000e+05\n",
              "max      7.700000e+06\n",
              "Name: price, dtype: float64"
            ]
          },
          "metadata": {
            "tags": []
          },
          "execution_count": 18
        }
      ]
    },
    {
      "cell_type": "code",
      "metadata": {
        "colab": {
          "base_uri": "https://localhost:8080/"
        },
        "id": "R4w_YREeq87x",
        "outputId": "8a9feab7-e2c1-47fc-9f9d-c96cb2417e72"
      },
      "source": [
        "#getting the skweness and kurtosis of the column price\n",
        "print('kurtosis of column price', df['price'].kurt()) # the kurtosis of a normally distributed variable is 3\n",
        "print('skweness of column price', df['price'].skew()) # the skweness of a normally distributed variable is 0\n",
        "\n",
        "#the column price is not distributed based on the kurtosis and skweness"
      ],
      "execution_count": 19,
      "outputs": [
        {
          "output_type": "stream",
          "text": [
            "kurtosis of column price 34.517437729615054\n",
            "skweness of column price 4.021467451317612\n"
          ],
          "name": "stdout"
        }
      ]
    },
    {
      "cell_type": "code",
      "metadata": {
        "colab": {
          "base_uri": "https://localhost:8080/",
          "height": 512
        },
        "id": "wcRhHJPFsKX9",
        "outputId": "c615898d-acbc-4511-c5de-2cb1943754d7"
      },
      "source": [
        "#we will plot a distribution plot\n",
        "df['price'].plot(kind='kde',figsize=(8,8))\n",
        "plt.title('distribution plot of price')\n",
        "plt.show()"
      ],
      "execution_count": 20,
      "outputs": [
        {
          "output_type": "display_data",
          "data": {
            "image/png": "[encoded data removed]",
            "text/plain": [
              "<Figure size 576x576 with 1 Axes>"
            ]
          },
          "metadata": {
            "tags": [],
            "needs_background": "light"
          }
        }
      ]
    },
    {
      "cell_type": "code",
      "metadata": {
        "colab": {
          "base_uri": "https://localhost:8080/"
        },
        "id": "QBHComNptAlr",
        "outputId": "e65916e2-d573-48c3-cea9-b84513823df9"
      },
      "source": [
        "#calculating the shapiro wilk test\n",
        "from scipy.stats import shapiro\n",
        "data=df['price']\n",
        "stat,p=shapiro(data)\n",
        "print('Statistics=%.3f, p=%.3f' % (stat, p))\n",
        "\n",
        "# interpreting\n",
        "alpha = 0.05\n",
        "if p > alpha:\n",
        "\tprint('Sample looks Gaussian')\n",
        "else:\n",
        "\tprint('Sample does not look Gaussian')"
      ],
      "execution_count": 21,
      "outputs": [
        {
          "output_type": "stream",
          "text": [
            "Statistics=0.712, p=0.000\n",
            "Sample does not look Gaussian\n"
          ],
          "name": "stdout"
        }
      ]
    },
    {
      "cell_type": "markdown",
      "metadata": {
        "id": "IbfQpIWytrmC"
      },
      "source": [
        "##### Bedrooms"
      ]
    },
    {
      "cell_type": "code",
      "metadata": {
        "colab": {
          "base_uri": "https://localhost:8080/"
        },
        "id": "w2Qay8hLtuGk",
        "outputId": "be2cf8b1-70e9-4e22-ffe3-b53be92cc243"
      },
      "source": [
        "#looking at the descrptive statistics of the column bedrooms\n",
        "df['bedrooms'].describe()"
      ],
      "execution_count": 22,
      "outputs": [
        {
          "output_type": "execute_result",
          "data": {
            "text/plain": [
              "count    21610.000000\n",
              "mean         3.370847\n",
              "std          0.930110\n",
              "min          0.000000\n",
              "25%          3.000000\n",
              "50%          3.000000\n",
              "75%          4.000000\n",
              "max         33.000000\n",
              "Name: bedrooms, dtype: float64"
            ]
          },
          "metadata": {
            "tags": []
          },
          "execution_count": 22
        }
      ]
    },
    {
      "cell_type": "code",
      "metadata": {
        "colab": {
          "base_uri": "https://localhost:8080/",
          "height": 517
        },
        "id": "pOtVLyZouFHw",
        "outputId": "387fffc1-5f82-45d7-ecf1-2c00a90b6d56"
      },
      "source": [
        "print(df['bedrooms'].value_counts())\n",
        "\n",
        "sns.countplot(x=df['bedrooms'],data=df)\n",
        "plt.show()"
      ],
      "execution_count": 23,
      "outputs": [
        {
          "output_type": "stream",
          "text": [
            "3     9822\n",
            "4     6881\n",
            "2     2760\n",
            "5     1601\n",
            "6      272\n",
            "1      199\n",
            "7       38\n",
            "8       13\n",
            "0       13\n",
            "9        6\n",
            "10       3\n",
            "11       1\n",
            "33       1\n",
            "Name: bedrooms, dtype: int64\n"
          ],
          "name": "stdout"
        },
        {
          "output_type": "display_data",
          "data": {
            "image/png": "[encoded data removed]",
            "text/plain": [
              "<Figure size 432x288 with 1 Axes>"
            ]
          },
          "metadata": {
            "tags": [],
            "needs_background": "light"
          }
        }
      ]
    },
    {
      "cell_type": "code",
      "metadata": {
        "colab": {
          "base_uri": "https://localhost:8080/",
          "height": 533
        },
        "id": "rtusZuk_ur_3",
        "outputId": "020c71ee-827f-44be-db1e-6b3a0d1c92e0"
      },
      "source": [
        "#getting the skweness and kurtosis of the column price\n",
        "print('kurtosis of column price', df['bedrooms'].kurt()) # the kurtosis of a normally distributed variable is 3\n",
        "print('skweness of column price', df['bedrooms'].skew()) # the skweness of a normally distributed variable is 0\n",
        "\n",
        "\n",
        "#we will plot a distribution plot\n",
        "df['bedrooms'].plot(kind='kde',figsize=(8,8))\n",
        "plt.title('distribution plot of number of bedrooms')\n",
        "plt.show()\n",
        "\n",
        "\n",
        "# we can see that the data is not even close to being normally distributed"
      ],
      "execution_count": 24,
      "outputs": [
        {
          "output_type": "stream",
          "text": [
            "kurtosis of column price 49.06010825423431\n",
            "skweness of column price 1.9742435470953739\n"
          ],
          "name": "stdout"
        },
        {
          "output_type": "display_data",
          "data": {
            "image/png": "[encoded data removed]",
            "text/plain": [
              "<Figure size 576x576 with 1 Axes>"
            ]
          },
          "metadata": {
            "tags": [],
            "needs_background": "light"
          }
        }
      ]
    },
    {
      "cell_type": "code",
      "metadata": {
        "colab": {
          "base_uri": "https://localhost:8080/"
        },
        "id": "-CO6C2SXwBlK",
        "outputId": "ae85e5d4-92b3-4a21-eb4a-97ff833be8f3"
      },
      "source": [
        "#performing shapiro wilk test on this column\n",
        "data=df['bedrooms']\n",
        "stat,p=shapiro(data)\n",
        "print('Statistics=%.3f, p=%.3f' % (stat, p))\n",
        "\n",
        "# interpreting\n",
        "alpha = 0.05\n",
        "if p > alpha:\n",
        "\tprint('Sample looks Gaussian')\n",
        "else:\n",
        "\tprint('Sample does not look Gaussian')"
      ],
      "execution_count": 25,
      "outputs": [
        {
          "output_type": "stream",
          "text": [
            "Statistics=0.849, p=0.000\n",
            "Sample does not look Gaussian\n"
          ],
          "name": "stdout"
        }
      ]
    },
    {
      "cell_type": "markdown",
      "metadata": {
        "id": "iRbhYnQVwt9Q"
      },
      "source": [
        "##### bathrooms"
      ]
    },
    {
      "cell_type": "code",
      "metadata": {
        "colab": {
          "base_uri": "https://localhost:8080/"
        },
        "id": "h59eTDYyyWj4",
        "outputId": "ec19276c-ff02-4c61-bbfc-76ce4a494feb"
      },
      "source": [
        "print(df['bathrooms'].unique())\n",
        "#the number of bathrooms cannot be a float\n",
        "#we will therefore round off the values to the nearest whole number\n",
        "df['bathrooms']=df['bathrooms'].round()\n",
        "df['bathrooms']=df['bathrooms'].astype(int)"
      ],
      "execution_count": 26,
      "outputs": [
        {
          "output_type": "stream",
          "text": [
            "[1.   2.25 3.   2.   4.5  1.5  2.5  1.75 2.75 3.25 4.   3.5  0.75 4.75\n",
            " 5.   4.25 3.75 0.   1.25 5.25 6.   0.5  5.5  6.75 5.75 8.   7.5  7.75\n",
            " 6.25 6.5 ]\n"
          ],
          "name": "stdout"
        }
      ]
    },
    {
      "cell_type": "code",
      "metadata": {
        "colab": {
          "base_uri": "https://localhost:8080/"
        },
        "id": "cRBetowDwyX2",
        "outputId": "6adf6746-a8ee-4790-a4ec-43a091454e5e"
      },
      "source": [
        "df['bathrooms'].describe()"
      ],
      "execution_count": 27,
      "outputs": [
        {
          "output_type": "execute_result",
          "data": {
            "text/plain": [
              "count    21610.000000\n",
              "mean         2.058723\n",
              "std          0.755576\n",
              "min          0.000000\n",
              "25%          2.000000\n",
              "50%          2.000000\n",
              "75%          2.000000\n",
              "max          8.000000\n",
              "Name: bathrooms, dtype: float64"
            ]
          },
          "metadata": {
            "tags": []
          },
          "execution_count": 27
        }
      ]
    },
    {
      "cell_type": "code",
      "metadata": {
        "colab": {
          "base_uri": "https://localhost:8080/",
          "height": 449
        },
        "id": "i8BETlB7w6rw",
        "outputId": "469ce44a-0857-46ac-fb9e-0a652aaf9850"
      },
      "source": [
        "print(df['bathrooms'].value_counts())\n",
        "\n",
        "sns.countplot(x=df['bathrooms'],data=df)\n",
        "plt.show()"
      ],
      "execution_count": 28,
      "outputs": [
        {
          "output_type": "stream",
          "text": [
            "2    13848\n",
            "1     3933\n",
            "3     2527\n",
            "4     1201\n",
            "5       57\n",
            "6       24\n",
            "0       14\n",
            "8        4\n",
            "7        2\n",
            "Name: bathrooms, dtype: int64\n"
          ],
          "name": "stdout"
        },
        {
          "output_type": "display_data",
          "data": {
            "image/png": "[encoded data removed]",
            "text/plain": [
              "<Figure size 432x288 with 1 Axes>"
            ]
          },
          "metadata": {
            "tags": [],
            "needs_background": "light"
          }
        }
      ]
    },
    {
      "cell_type": "code",
      "metadata": {
        "colab": {
          "base_uri": "https://localhost:8080/",
          "height": 533
        },
        "id": "Q7BC3Y_y0zrU",
        "outputId": "b2eb72f1-04e5-4369-837b-1699ada2673e"
      },
      "source": [
        "#getting the skweness and kurtosis of the column bathrooms\n",
        "print('kurtosis of column price', df['bathrooms'].kurt()) # the kurtosis of a normally distributed variable is 3\n",
        "print('skweness of column price', df['bathrooms'].skew()) # the skweness of a normally distributed variable is 0\n",
        "\n",
        "\n",
        "#we will plot a distribution plot\n",
        "df['bathrooms'].plot(kind='kde',figsize=(8,8))\n",
        "plt.title('distribution plot of number of bathrooms')\n",
        "plt.show()\n",
        "\n",
        "#the data is not close to being normally distributed"
      ],
      "execution_count": 29,
      "outputs": [
        {
          "output_type": "stream",
          "text": [
            "kurtosis of column price 2.746983075214263\n",
            "skweness of column price 1.0837995486347805\n"
          ],
          "name": "stdout"
        },
        {
          "output_type": "display_data",
          "data": {
            "image/png": "[encoded data removed]",
            "text/plain": [
              "<Figure size 576x576 with 1 Axes>"
            ]
          },
          "metadata": {
            "tags": [],
            "needs_background": "light"
          }
        }
      ]
    },
    {
      "cell_type": "code",
      "metadata": {
        "colab": {
          "base_uri": "https://localhost:8080/"
        },
        "id": "SvsCXSLK1E-c",
        "outputId": "1a026070-c3b9-4180-d193-8a42f5c464c8"
      },
      "source": [
        "#we will carry out a shapiro wilk test\n",
        "data=df['bathrooms']\n",
        "stat,p=shapiro(data)\n",
        "print('statistic=%.3f p-value=%.3f'%(stat,p))\n",
        "# interpreting\n",
        "alpha = 0.05\n",
        "if p > alpha:\n",
        "\tprint('Sample looks Gaussian')\n",
        "else:\n",
        "\tprint('Sample does not look Gaussian')"
      ],
      "execution_count": 30,
      "outputs": [
        {
          "output_type": "stream",
          "text": [
            "statistic=0.770 p-value=0.000\n",
            "Sample does not look Gaussian\n"
          ],
          "name": "stdout"
        }
      ]
    },
    {
      "cell_type": "markdown",
      "metadata": {
        "id": "ooRjmL9J1qiZ"
      },
      "source": [
        "##### square feet of living room"
      ]
    },
    {
      "cell_type": "code",
      "metadata": {
        "colab": {
          "base_uri": "https://localhost:8080/"
        },
        "id": "2_pYfL871nWZ",
        "outputId": "cd97b424-8864-478b-9d55-0353e639a7cb"
      },
      "source": [
        "#we will get the number of unique values in the column\n",
        "print(df['sqft_living'].nunique())\n",
        "\n",
        "#we will get the descriptive statisitcs \n",
        "df['sqft_living'].describe()\n"
      ],
      "execution_count": 31,
      "outputs": [
        {
          "output_type": "stream",
          "text": [
            "1038\n"
          ],
          "name": "stdout"
        },
        {
          "output_type": "execute_result",
          "data": {
            "text/plain": [
              "count    21610.000000\n",
              "mean      2079.881212\n",
              "std        918.500299\n",
              "min        290.000000\n",
              "25%       1425.500000\n",
              "50%       1910.000000\n",
              "75%       2550.000000\n",
              "max      13540.000000\n",
              "Name: sqft_living, dtype: float64"
            ]
          },
          "metadata": {
            "tags": []
          },
          "execution_count": 31
        }
      ]
    },
    {
      "cell_type": "code",
      "metadata": {
        "colab": {
          "base_uri": "https://localhost:8080/",
          "height": 533
        },
        "id": "Yt6pO2dQ3DDJ",
        "outputId": "61b53187-c445-4818-81f5-c43c2587c16a"
      },
      "source": [
        "#getting the skweness and kurtosis of the column 'sqft_living'\n",
        "print('kurtosis of column sqft_living', df['sqft_living'].kurt()) # the kurtosis of a normally distributed variable is 3\n",
        "print('skweness of column sqft_living', df['sqft_living'].skew()) # the skweness of a normally distributed variable is 0\n",
        "\n",
        "\n",
        "#we will plot a distribution plot\n",
        "df['sqft_living'].plot(kind='kde',figsize=(8,8))\n",
        "plt.title('distribution plot of number of living room square feet')\n",
        "plt.show()"
      ],
      "execution_count": 32,
      "outputs": [
        {
          "output_type": "stream",
          "text": [
            "kurtosis of column sqft_living 5.242222911342459\n",
            "skweness of column sqft_living 1.4715321846904306\n"
          ],
          "name": "stdout"
        },
        {
          "output_type": "display_data",
          "data": {
            "image/png": "[encoded data removed]",
            "text/plain": [
              "<Figure size 576x576 with 1 Axes>"
            ]
          },
          "metadata": {
            "tags": [],
            "needs_background": "light"
          }
        }
      ]
    },
    {
      "cell_type": "code",
      "metadata": {
        "colab": {
          "base_uri": "https://localhost:8080/"
        },
        "id": "CVI1GDVS3rkD",
        "outputId": "a177b3db-73a9-4546-f960-6534ef82ed59"
      },
      "source": [
        "#shapiro test\n",
        "data=df['sqft_living']\n",
        "stat,p=shapiro(data)\n",
        "print('shapiro statistics=%.3f,p-value=%.3f'%(stat,p))\n",
        "\n",
        "#decision rule\n",
        "alpha = 0.05\n",
        "if p > alpha:\n",
        "\tprint('Sample looks Gaussian')\n",
        "else:\n",
        "\tprint('Sample does not look Gaussian')"
      ],
      "execution_count": 33,
      "outputs": [
        {
          "output_type": "stream",
          "text": [
            "shapiro statistics=0.915,p-value=0.000\n",
            "Sample does not look Gaussian\n"
          ],
          "name": "stdout"
        }
      ]
    },
    {
      "cell_type": "markdown",
      "metadata": {
        "id": "yLJbGKQk4S1f"
      },
      "source": [
        "##### square feet of parking area"
      ]
    },
    {
      "cell_type": "code",
      "metadata": {
        "colab": {
          "base_uri": "https://localhost:8080/"
        },
        "id": "EgNI8Frs4WGp",
        "outputId": "2ee72b02-7d89-4967-d2a3-afa7af017d4a"
      },
      "source": [
        "#we will get the number of unique values in the column\n",
        "print(df['sqft_lot'].nunique())\n",
        "\n",
        "#we will get the descriptive statisitcs \n",
        "df['sqft_lot'].describe()"
      ],
      "execution_count": 34,
      "outputs": [
        {
          "output_type": "stream",
          "text": [
            "9782\n"
          ],
          "name": "stdout"
        },
        {
          "output_type": "execute_result",
          "data": {
            "text/plain": [
              "count    2.161000e+04\n",
              "mean     1.510829e+04\n",
              "std      4.142323e+04\n",
              "min      5.200000e+02\n",
              "25%      5.040000e+03\n",
              "50%      7.619000e+03\n",
              "75%      1.068875e+04\n",
              "max      1.651359e+06\n",
              "Name: sqft_lot, dtype: float64"
            ]
          },
          "metadata": {
            "tags": []
          },
          "execution_count": 34
        }
      ]
    },
    {
      "cell_type": "code",
      "metadata": {
        "colab": {
          "base_uri": "https://localhost:8080/",
          "height": 546
        },
        "id": "2XYz71z24obS",
        "outputId": "39a1ce0b-0d14-406d-ae5f-f9c56190913e"
      },
      "source": [
        "#getting the skweness and kurtosis of the column sqft_lot\n",
        "print('kurtosis of column sqft_lot', df['sqft_lot'].kurt()) # the kurtosis of a normally distributed variable is 3\n",
        "print('skweness of column sqft_lot', df['sqft_lot'].skew()) # the skweness of a normally distributed variable is 0\n",
        "\n",
        "\n",
        "#we will plot a distribution plot\n",
        "df['sqft_lot'].plot(kind='kde',figsize=(8,8))\n",
        "plt.title('distribution plot of parking lot in square feet')\n",
        "plt.show()"
      ],
      "execution_count": 35,
      "outputs": [
        {
          "output_type": "stream",
          "text": [
            "kurtosis of column sqft_lot 285.0406214916321\n",
            "skweness of column sqft_lot 13.059170061304911\n"
          ],
          "name": "stdout"
        },
        {
          "output_type": "display_data",
          "data": {
            "image/png": "[encoded data removed]",
            "text/plain": [
              "<Figure size 576x576 with 1 Axes>"
            ]
          },
          "metadata": {
            "tags": [],
            "needs_background": "light"
          }
        }
      ]
    },
    {
      "cell_type": "code",
      "metadata": {
        "colab": {
          "base_uri": "https://localhost:8080/"
        },
        "id": "plH_SBaW4_5W",
        "outputId": "b5861b89-44f8-4b6b-dec6-f633531ede24"
      },
      "source": [
        "#conducting shapiro wilk test for normality\n",
        "data-df['sqft_lot']\n",
        "stat,p=shapiro(data)\n",
        "print('shapiro statistic=%.3f,p-value=%.3f'%(stat,p))\n",
        "\n",
        "#decision rule\n",
        "alpha = 0.05\n",
        "if p > alpha:\n",
        "\tprint('Sample looks Gaussian')\n",
        "else:\n",
        "\tprint('Sample does not look Gaussian')"
      ],
      "execution_count": 36,
      "outputs": [
        {
          "output_type": "stream",
          "text": [
            "shapiro statistic=0.915,p-value=0.000\n",
            "Sample does not look Gaussian\n"
          ],
          "name": "stdout"
        }
      ]
    },
    {
      "cell_type": "markdown",
      "metadata": {
        "id": "N6R8rv4j53Y0"
      },
      "source": [
        "##### floors"
      ]
    },
    {
      "cell_type": "code",
      "metadata": {
        "colab": {
          "base_uri": "https://localhost:8080/"
        },
        "id": "lZBu3N7l588x",
        "outputId": "c144484a-83f6-4842-d9ec-ff17b7fbec67"
      },
      "source": [
        "#to look at the unique values in the columns floors\n",
        "print(df['floors'].unique())\n",
        "\n",
        "#we cannot have fllors being float numbers\n",
        "#we will therefore round of the column values into the next whole number and convert it into integer\n",
        "df['floors']=df['floors'].round()\n",
        "df['floors']=df['floors'].astype(int)"
      ],
      "execution_count": 37,
      "outputs": [
        {
          "output_type": "stream",
          "text": [
            "[1.  2.  1.5 3.  2.5 3.5]\n"
          ],
          "name": "stdout"
        }
      ]
    },
    {
      "cell_type": "code",
      "metadata": {
        "colab": {
          "base_uri": "https://localhost:8080/",
          "height": 364
        },
        "id": "-qDfyUWs68mt",
        "outputId": "dc2e2a27-b2f5-415f-ec55-c37c5aa62227"
      },
      "source": [
        "print(df['floors'].value_counts())\n",
        "\n",
        "sns.countplot(x=df['floors'],data=df)\n",
        "plt.show()"
      ],
      "execution_count": 38,
      "outputs": [
        {
          "output_type": "stream",
          "text": [
            "1    10680\n",
            "2    10309\n",
            "3      613\n",
            "4        8\n",
            "Name: floors, dtype: int64\n"
          ],
          "name": "stdout"
        },
        {
          "output_type": "display_data",
          "data": {
            "image/png": "[encoded data removed]",
            "text/plain": [
              "<Figure size 432x288 with 1 Axes>"
            ]
          },
          "metadata": {
            "tags": [],
            "needs_background": "light"
          }
        }
      ]
    },
    {
      "cell_type": "code",
      "metadata": {
        "colab": {
          "base_uri": "https://localhost:8080/",
          "height": 533
        },
        "id": "5ga9g1mg7Xjt",
        "outputId": "e4da2268-0323-4e32-d534-3d1faabb4893"
      },
      "source": [
        "#getting the skweness and kurtosis of the column sqft_lot\n",
        "print('kurtosis of column floors', df['floors'].kurt()) # the kurtosis of a normally distributed variable is 3\n",
        "print('skweness of column floors', df['floors'].skew()) # the skweness of a normally distributed variable is 0\n",
        "\n",
        "\n",
        "#we will plot a distribution plot\n",
        "df['floors'].plot(kind='kde',figsize=(8,8))\n",
        "plt.title('distribution plot of number of floors')\n",
        "plt.show()"
      ],
      "execution_count": 39,
      "outputs": [
        {
          "output_type": "stream",
          "text": [
            "kurtosis of column floors -0.8124870468103511\n",
            "skweness of column floors 0.39320446292942524\n"
          ],
          "name": "stdout"
        },
        {
          "output_type": "display_data",
          "data": {
            "image/png": "[encoded data removed]",
            "text/plain": [
              "<Figure size 576x576 with 1 Axes>"
            ]
          },
          "metadata": {
            "tags": [],
            "needs_background": "light"
          }
        }
      ]
    },
    {
      "cell_type": "code",
      "metadata": {
        "colab": {
          "base_uri": "https://localhost:8080/"
        },
        "id": "hi-UGWyK7pTC",
        "outputId": "e7d3d59f-b0ea-4529-fed5-3d951b5e9410"
      },
      "source": [
        "data=df['floors']\n",
        "stat,p=shapiro(data)\n",
        "print('shapiro statistic=%.3f, p-value=%.3f'%(stat,p))\n",
        "\n",
        "#decision rule\n",
        "alpha = 0.05\n",
        "if p > alpha:\n",
        "\tprint('Sample looks Gaussian')\n",
        "else:\n",
        "\tprint('Sample does not look Gaussian')"
      ],
      "execution_count": 40,
      "outputs": [
        {
          "output_type": "stream",
          "text": [
            "shapiro statistic=0.705, p-value=0.000\n",
            "Sample does not look Gaussian\n"
          ],
          "name": "stdout"
        }
      ]
    },
    {
      "cell_type": "markdown",
      "metadata": {
        "id": "wyFODGAJ9JjT"
      },
      "source": [
        "##### square feet of basement area"
      ]
    },
    {
      "cell_type": "code",
      "metadata": {
        "colab": {
          "base_uri": "https://localhost:8080/"
        },
        "id": "L8fkXkoL9S1a",
        "outputId": "d4ce6c43-acce-46b0-d78d-73ea372d30f2"
      },
      "source": [
        "df['sqft_basement'].describe()"
      ],
      "execution_count": 41,
      "outputs": [
        {
          "output_type": "execute_result",
          "data": {
            "text/plain": [
              "count    21610.000000\n",
              "mean       291.533318\n",
              "std        442.596699\n",
              "min          0.000000\n",
              "25%          0.000000\n",
              "50%          0.000000\n",
              "75%        560.000000\n",
              "max       4820.000000\n",
              "Name: sqft_basement, dtype: float64"
            ]
          },
          "metadata": {
            "tags": []
          },
          "execution_count": 41
        }
      ]
    },
    {
      "cell_type": "code",
      "metadata": {
        "colab": {
          "base_uri": "https://localhost:8080/",
          "height": 533
        },
        "id": "RXU7ZjQk9cJF",
        "outputId": "6d99c76c-adc3-4984-af87-9589a7e5f4b9"
      },
      "source": [
        "#getting the skweness and kurtosis of the column sqft_lot\n",
        "print('kurtosis of column sqft_basement', df['sqft_basement'].kurt()) # the kurtosis of a normally distributed variable is 3\n",
        "print('skweness of column sqft_basement', df['sqft_basement'].skew()) # the skweness of a normally distributed variable is 0\n",
        "\n",
        "\n",
        "#we will plot a distribution plot\n",
        "df['sqft_basement'].plot(kind='kde',figsize=(8,8))\n",
        "plt.title('distribution plot of basement')\n",
        "plt.show()"
      ],
      "execution_count": 42,
      "outputs": [
        {
          "output_type": "stream",
          "text": [
            "kurtosis of column sqft_basement 2.714885503607166\n",
            "skweness of column sqft_basement 1.5778143003083518\n"
          ],
          "name": "stdout"
        },
        {
          "output_type": "display_data",
          "data": {
            "image/png": "[encoded data removed]",
            "text/plain": [
              "<Figure size 576x576 with 1 Axes>"
            ]
          },
          "metadata": {
            "tags": [],
            "needs_background": "light"
          }
        }
      ]
    },
    {
      "cell_type": "code",
      "metadata": {
        "colab": {
          "base_uri": "https://localhost:8080/"
        },
        "id": "Wb-5E6aM917t",
        "outputId": "af6c70e3-4484-4588-d445-4105843d77e0"
      },
      "source": [
        "#conducting shapiro test for normality\n",
        "data=df['sqft_basement']\n",
        "stat,p=shapiro(data)\n",
        "print('shapiro statistic=%.3f, p-value=%.3f'%(stat,p))\n",
        "\n",
        "#decision rule\n",
        "alpha = 0.05\n",
        "if p > alpha:\n",
        "\tprint('Sample looks Gaussian')\n",
        "else:\n",
        "\tprint('Sample does not look Gaussian')"
      ],
      "execution_count": 43,
      "outputs": [
        {
          "output_type": "stream",
          "text": [
            "shapiro statistic=0.710, p-value=0.000\n",
            "Sample does not look Gaussian\n"
          ],
          "name": "stdout"
        }
      ]
    },
    {
      "cell_type": "markdown",
      "metadata": {
        "id": "iPUCZhSd8G29"
      },
      "source": [
        "##### WaterFront"
      ]
    },
    {
      "cell_type": "code",
      "metadata": {
        "colab": {
          "base_uri": "https://localhost:8080/",
          "height": 279
        },
        "id": "eLmPew1I8KHl",
        "outputId": "009247b4-87bf-4575-d28a-609e52ccde46"
      },
      "source": [
        "sns.countplot(x=df['waterfront'],data=df)\n",
        "plt.show()\n",
        "\n",
        "#most houses do not have waterfront"
      ],
      "execution_count": 44,
      "outputs": [
        {
          "output_type": "display_data",
          "data": {
            "image/png": "[encoded data removed]",
            "text/plain": [
              "<Figure size 432x288 with 1 Axes>"
            ]
          },
          "metadata": {
            "tags": [],
            "needs_background": "light"
          }
        }
      ]
    },
    {
      "cell_type": "markdown",
      "metadata": {
        "id": "MhZpVFmR8aI-"
      },
      "source": [
        "##### view"
      ]
    },
    {
      "cell_type": "code",
      "metadata": {
        "colab": {
          "base_uri": "https://localhost:8080/",
          "height": 279
        },
        "id": "WCg-_bHv8bQw",
        "outputId": "b8ad6f68-a963-4068-bd2d-2a70e4e4660e"
      },
      "source": [
        "sns.countplot(x=df['view'],data=df)\n",
        "plt.show()\n",
        "\n",
        "#most houses have zero views"
      ],
      "execution_count": 45,
      "outputs": [
        {
          "output_type": "display_data",
          "data": {
            "image/png": "[encoded data removed]",
            "text/plain": [
              "<Figure size 432x288 with 1 Axes>"
            ]
          },
          "metadata": {
            "tags": [],
            "needs_background": "light"
          }
        }
      ]
    },
    {
      "cell_type": "markdown",
      "metadata": {
        "id": "5Qkcz-G68nCP"
      },
      "source": [
        "##### condition of the house"
      ]
    },
    {
      "cell_type": "code",
      "metadata": {
        "colab": {
          "base_uri": "https://localhost:8080/",
          "height": 279
        },
        "id": "gMHNH0-C8p_v",
        "outputId": "5d2a19d9-a99d-49bc-c24c-cf8ed3dba235"
      },
      "source": [
        "sns.countplot(x=df['condition'],data=df)\n",
        "plt.show()\n",
        "\n",
        "#most houses are of good condition"
      ],
      "execution_count": 46,
      "outputs": [
        {
          "output_type": "display_data",
          "data": {
            "image/png": "[encoded data removed]",
            "text/plain": [
              "<Figure size 432x288 with 1 Axes>"
            ]
          },
          "metadata": {
            "tags": [],
            "needs_background": "light"
          }
        }
      ]
    },
    {
      "cell_type": "markdown",
      "metadata": {
        "id": "vC008cvb81GU"
      },
      "source": [
        "##### grade"
      ]
    },
    {
      "cell_type": "code",
      "metadata": {
        "colab": {
          "base_uri": "https://localhost:8080/",
          "height": 279
        },
        "id": "km-uUK9S83no",
        "outputId": "6d064799-d9cd-4037-b2ac-37e612635754"
      },
      "source": [
        "sns.countplot(x=df['grade'],data=df)\n",
        "plt.show()\n",
        "\n",
        "#most houses are of grade 7"
      ],
      "execution_count": 47,
      "outputs": [
        {
          "output_type": "display_data",
          "data": {
            "image/png": "[encoded data removed]",
            "text/plain": [
              "<Figure size 432x288 with 1 Axes>"
            ]
          },
          "metadata": {
            "tags": [],
            "needs_background": "light"
          }
        }
      ]
    },
    {
      "cell_type": "markdown",
      "metadata": {
        "id": "KeAFh2HDnt_1"
      },
      "source": [
        "## Bivariate Analysis"
      ]
    },
    {
      "cell_type": "markdown",
      "metadata": {
        "id": "lnKxtUbfnwcM"
      },
      "source": [
        "## Multivariate Analysis"
      ]
    },
    {
      "cell_type": "code",
      "metadata": {
        "colab": {
          "base_uri": "https://localhost:8080/"
        },
        "id": "4azEmvLbnner",
        "outputId": "b7acbef0-7c5e-4276-b445-71a2f45cdb30"
      },
      "source": [
        "## We will perform LDA \n",
        "# We will start by defining our X and Y variables\n",
        "y=df[['price']]\n",
        "X=df.drop(['price'],axis=1)\n",
        "\n",
        "#we will fit LDA on the X and Y variables\n",
        "lda=LDA()\n",
        "lda_=lda.fit(X,y)\n",
        "lda_x=lda_.transform(X)\n",
        "lda_.coef_"
      ],
      "execution_count": 48,
      "outputs": [
        {
          "output_type": "execute_result",
          "data": {
            "text/plain": [
              "array([[-2.56784068e+00, -4.41388739e+00,  2.59460807e-03, ...,\n",
              "         2.28173598e-04,  4.99669755e-04,  3.95891925e-05],\n",
              "       [-7.85773941e-01, -4.98734505e-03, -5.42769872e-04, ...,\n",
              "        -2.54039129e-03,  2.67437289e-03, -2.46943421e-06],\n",
              "       [-2.71218125e+00,  1.43794138e+00,  3.68535923e-04, ...,\n",
              "        -2.93494980e-03,  1.66746505e-03,  4.99467636e-06],\n",
              "       ...,\n",
              "       [-6.50043676e+00,  1.16090470e+01,  1.50414357e-02, ...,\n",
              "        -4.20188344e-03, -9.40211072e-03, -6.70655464e-06],\n",
              "       [-7.49321129e+00, -4.46849342e+00,  2.25277815e-02, ...,\n",
              "         7.90219034e-03, -8.64983466e-03, -7.67501300e-05],\n",
              "       [-1.02027437e+01,  7.43836553e+00,  2.36780286e-02, ...,\n",
              "         7.10982284e-03, -1.33844862e-02, -9.32252857e-05]])"
            ]
          },
          "metadata": {
            "tags": []
          },
          "execution_count": 48
        }
      ]
    },
    {
      "cell_type": "code",
      "metadata": {
        "colab": {
          "base_uri": "https://localhost:8080/",
          "height": 514
        },
        "id": "XsJ5sc1mo3oR",
        "outputId": "096628db-49ad-4788-abd3-f4ed0fdfc080"
      },
      "source": [
        "#the results above are in array type\n",
        "#we will convert them into a dataframe\n",
        "result=pd.DataFrame(index=X.columns.values,data=lda_.coef_[0])\n",
        "result.rename(columns={0:'coefficients from LDA'},inplace=True)\n",
        "result.sort_values(by='coefficients from LDA',ascending=False)\n",
        "\n",
        "\n",
        "# columns with positive values are best in helping to predict prices"
      ],
      "execution_count": 49,
      "outputs": [
        {
          "output_type": "execute_result",
          "data": {
            "text/html": [
              "<div>\n",
              "<style scoped>\n",
              "    .dataframe tbody tr th:only-of-type {\n",
              "        vertical-align: middle;\n",
              "    }\n",
              "\n",
              "    .dataframe tbody tr th {\n",
              "        vertical-align: top;\n",
              "    }\n",
              "\n",
              "    .dataframe thead th {\n",
              "        text-align: right;\n",
              "    }\n",
              "</style>\n",
              "<table border=\"1\" class=\"dataframe\">\n",
              "  <thead>\n",
              "    <tr style=\"text-align: right;\">\n",
              "      <th></th>\n",
              "      <th>coefficients from LDA</th>\n",
              "    </tr>\n",
              "  </thead>\n",
              "  <tbody>\n",
              "    <tr>\n",
              "      <th>yr_built</th>\n",
              "      <td>0.163947</td>\n",
              "    </tr>\n",
              "    <tr>\n",
              "      <th>sqft_living</th>\n",
              "      <td>0.002595</td>\n",
              "    </tr>\n",
              "    <tr>\n",
              "      <th>sqft_above</th>\n",
              "      <td>0.002137</td>\n",
              "    </tr>\n",
              "    <tr>\n",
              "      <th>sqft_basement</th>\n",
              "      <td>0.000930</td>\n",
              "    </tr>\n",
              "    <tr>\n",
              "      <th>sqft_living15</th>\n",
              "      <td>0.000500</td>\n",
              "    </tr>\n",
              "    <tr>\n",
              "      <th>yr_renovated</th>\n",
              "      <td>0.000228</td>\n",
              "    </tr>\n",
              "    <tr>\n",
              "      <th>sqft_lot15</th>\n",
              "      <td>0.000040</td>\n",
              "    </tr>\n",
              "    <tr>\n",
              "      <th>sqft_lot</th>\n",
              "      <td>-0.000005</td>\n",
              "    </tr>\n",
              "    <tr>\n",
              "      <th>view</th>\n",
              "      <td>-0.057915</td>\n",
              "    </tr>\n",
              "    <tr>\n",
              "      <th>floors</th>\n",
              "      <td>-0.475682</td>\n",
              "    </tr>\n",
              "    <tr>\n",
              "      <th>condition</th>\n",
              "      <td>-1.446037</td>\n",
              "    </tr>\n",
              "    <tr>\n",
              "      <th>bedrooms</th>\n",
              "      <td>-2.567841</td>\n",
              "    </tr>\n",
              "    <tr>\n",
              "      <th>bathrooms</th>\n",
              "      <td>-4.413887</td>\n",
              "    </tr>\n",
              "    <tr>\n",
              "      <th>waterfront</th>\n",
              "      <td>-9.000439</td>\n",
              "    </tr>\n",
              "    <tr>\n",
              "      <th>grade</th>\n",
              "      <td>-11.054523</td>\n",
              "    </tr>\n",
              "  </tbody>\n",
              "</table>\n",
              "</div>"
            ],
            "text/plain": [
              "               coefficients from LDA\n",
              "yr_built                    0.163947\n",
              "sqft_living                 0.002595\n",
              "sqft_above                  0.002137\n",
              "sqft_basement               0.000930\n",
              "sqft_living15               0.000500\n",
              "yr_renovated                0.000228\n",
              "sqft_lot15                  0.000040\n",
              "sqft_lot                   -0.000005\n",
              "view                       -0.057915\n",
              "floors                     -0.475682\n",
              "condition                  -1.446037\n",
              "bedrooms                   -2.567841\n",
              "bathrooms                  -4.413887\n",
              "waterfront                 -9.000439\n",
              "grade                     -11.054523"
            ]
          },
          "metadata": {
            "tags": []
          },
          "execution_count": 49
        }
      ]
    },
    {
      "cell_type": "markdown",
      "metadata": {
        "id": "d-0jSV17BR86"
      },
      "source": [
        "# MODELLING"
      ]
    },
    {
      "cell_type": "markdown",
      "metadata": {
        "id": "E8lZOTF1P5Zm"
      },
      "source": [
        "##### Multiple Regression"
      ]
    },
    {
      "cell_type": "code",
      "metadata": {
        "colab": {
          "base_uri": "https://localhost:8080/",
          "height": 659
        },
        "id": "AVM6iTwxQLqo",
        "outputId": "40318bff-2379-43b1-b95e-71648f98562f"
      },
      "source": [
        "#declaring our X and Y variables\n",
        "X=df.drop(['price'],axis=1)\n",
        "y=df[['price']]\n",
        "#we will check for multicollinearity in the independnent variables\n",
        "#those with a high multi-colliniearuty will be dropped \n",
        "plt.figure(figsize=(10,10))\n",
        "sns.heatmap(X.corr(),annot=True,fmt='.1',center=0,vmin=-1,vmax=1)\n",
        "plt.show()"
      ],
      "execution_count": 50,
      "outputs": [
        {
          "output_type": "display_data",
          "data": {
            "image/png": "[encoded data removed]",
            "text/plain": [
              "<Figure size 720x720 with 2 Axes>"
            ]
          },
          "metadata": {
            "tags": [],
            "needs_background": "light"
          }
        }
      ]
    },
    {
      "cell_type": "code",
      "metadata": {
        "colab": {
          "base_uri": "https://localhost:8080/"
        },
        "id": "PWBWCGgGSKOu",
        "outputId": "9fb27819-602c-49a9-d766-1459bd37d46c"
      },
      "source": [
        "#calculating vif\n",
        "from statsmodels.stats.outliers_influence import variance_inflation_factor\n",
        "vif_data=pd.DataFrame()\n",
        "vif_data['feature']=X.columns\n",
        "#calculating vif for each feature\n",
        "vif_data['VIF']=[variance_inflation_factor(X.values,i)\n",
        "for i in range(len(X.columns))]\n",
        "\n",
        "print(vif_data)\n",
        "\n",
        "#vif above implies that there is multicollinearity"
      ],
      "execution_count": 51,
      "outputs": [
        {
          "output_type": "stream",
          "text": [
            "          feature         VIF\n",
            "0        bedrooms   22.874263\n",
            "1       bathrooms   18.110143\n",
            "2     sqft_living         inf\n",
            "3        sqft_lot    2.363759\n",
            "4          floors   13.548336\n",
            "5      waterfront    1.212417\n",
            "6            view    1.518529\n",
            "7       condition   29.512588\n",
            "8           grade  138.384352\n",
            "9      sqft_above         inf\n",
            "10  sqft_basement         inf\n",
            "11       yr_built  126.370481\n",
            "12   yr_renovated    1.069808\n",
            "13  sqft_living15   26.583647\n",
            "14     sqft_lot15    2.575251\n"
          ],
          "name": "stdout"
        }
      ]
    },
    {
      "cell_type": "code",
      "metadata": {
        "id": "tW7P7TlVP_d8"
      },
      "source": [
        "#we will rescale the values in the  dataframe in order to reduce the effects of "
      ],
      "execution_count": 52,
      "outputs": []
    },
    {
      "cell_type": "code",
      "metadata": {
        "colab": {
          "base_uri": "https://localhost:8080/"
        },
        "id": "xd9q93CyBU0z",
        "outputId": "31da16d1-1855-4afd-ccc3-cccd559fbd8b"
      },
      "source": [
        "#linear regreesion\n",
        "lr=LinearRegression()\n",
        "X_train,X_test,y_train,y_test=train_test_split(X,y,test_size=0.3,random_state=42)\n",
        "lr.fit(X_train,y_train) #fitting the model on our train data\n",
        "\n",
        "y_pred=lr.predict(X_test)\n",
        "residual=y_test-y_pred\n",
        "#getting the score/performance of the model\n",
        "print('r-squared : ', r2_score(y_pred,y_test)*100)\n",
        "print('mean squared error: ',mean_squared_error(y_pred,y_test))\n",
        "print('root mean squared error:', np.sqrt(mean_squared_error(y_pred,y_test)))\n",
        "\n",
        "\n",
        "#we can see that our model does not work well in explaining the dependnent variable\n",
        "# the variables used in the model, only explain 49.13% change in the dependent variable"
      ],
      "execution_count": 53,
      "outputs": [
        {
          "output_type": "stream",
          "text": [
            "r-squared :  49.13289242652257\n",
            "mean squared error:  47284856122.569626\n",
            "root mean squared error: 217450.81311084956\n"
          ],
          "name": "stdout"
        }
      ]
    },
    {
      "cell_type": "code",
      "metadata": {
        "colab": {
          "base_uri": "https://localhost:8080/",
          "height": 289
        },
        "id": "RFrEn_WzoeQ_",
        "outputId": "559cc3a5-8ba8-4b62-d80a-36c407f5cc9e"
      },
      "source": [
        "#plot of the residuals\n",
        "sns.regplot(y=residual,x=y_pred)\n",
        "plt.show()\n",
        "\n",
        "#from the plot we can see that the residuals/ errors do not converge along a central point\n",
        "#this means that the variance of the residuals are not constant and thus heteroscedastic\n",
        "# this is becasue outliers receive too much weight in the model building"
      ],
      "execution_count": 54,
      "outputs": [
        {
          "output_type": "display_data",
          "data": {
            "image/png": "[encoded data removed]",
            "text/plain": [
              "<Figure size 432x288 with 1 Axes>"
            ]
          },
          "metadata": {
            "tags": [],
            "needs_background": "light"
          }
        }
      ]
    },
    {
      "cell_type": "code",
      "metadata": {
        "colab": {
          "base_uri": "https://localhost:8080/"
        },
        "id": "0b1rTREgViCk",
        "outputId": "c9e95370-6877-4500-c566-f56f8005abb9"
      },
      "source": [
        "#cross validation\n",
        "# we will use 5 folds\n",
        "print(cross_val_score(lr,X_test,y_test,cv=5))\n",
        "\n",
        "#we can see that the last fold has the least performance between the 5 folds\n",
        " \n",
        "print('mean of cross validation of the 5 folds: ',cross_val_score(lr,X_test,y_test,cv=5).mean())\n",
        "\n",
        "#we can see that our model does not perform better"
      ],
      "execution_count": 55,
      "outputs": [
        {
          "output_type": "stream",
          "text": [
            "[0.66576285 0.64641151 0.65974103 0.65609238 0.57860436]\n",
            "mean of cross validation of the 5 folds:  0.6413224246124453\n"
          ],
          "name": "stdout"
        }
      ]
    },
    {
      "cell_type": "markdown",
      "metadata": {
        "id": "QP629V2MY9pc"
      },
      "source": [
        "##### Lasso Regression"
      ]
    },
    {
      "cell_type": "code",
      "metadata": {
        "colab": {
          "base_uri": "https://localhost:8080/"
        },
        "id": "05lyLCCSZLc5",
        "outputId": "81158264-ff6b-4db3-ead5-6d0221cd067a"
      },
      "source": [
        "#lasso regression\n",
        "#we will start with an alpha of 0.1\n",
        "lsr=Lasso(alpha=0.1 ,normalize=True)\n",
        "lsr.fit(X_train,y_train)\n",
        "y_pred=lsr.predict(X_test)\n",
        "\n",
        "#getting the score/performance of the model\n",
        "print('r-squared : ', r2_score(y_pred,y_test)*100)\n",
        "print('mean squared error: ',mean_squared_error(y_pred,y_test))\n",
        "print('root mean squared error:', np.sqrt(mean_squared_error(y_pred,y_test)))\n",
        "\n",
        "lsr.coef_"
      ],
      "execution_count": 56,
      "outputs": [
        {
          "output_type": "stream",
          "text": [
            "r-squared :  49.13341711001104\n",
            "mean squared error:  47284771150.135345\n",
            "root mean squared error: 217450.6177276472\n"
          ],
          "name": "stdout"
        },
        {
          "output_type": "execute_result",
          "data": {
            "text/plain": [
              "array([-3.87568341e+04,  4.95361352e+04,  2.62744943e+02, -3.90762583e-03,\n",
              "        2.24042518e+04,  5.95151459e+05,  4.42871291e+04,  1.91133804e+04,\n",
              "        1.20233074e+05, -1.02416457e+02, -1.00106974e+02, -3.38727613e+03,\n",
              "        1.36359006e+01,  2.87564317e+01, -6.19027264e-01])"
            ]
          },
          "metadata": {
            "tags": []
          },
          "execution_count": 56
        }
      ]
    },
    {
      "cell_type": "code",
      "metadata": {
        "colab": {
          "base_uri": "https://localhost:8080/"
        },
        "id": "cbvweiML1j7l",
        "outputId": "02a01c19-3cf2-4eca-f4bb-89da72d30e81"
      },
      "source": [
        "#lasso regression\n",
        "#we will start with an alpha of 0.1\n",
        "lsr=Lasso(alpha=0.2 ,normalize=True)\n",
        "lsr.fit(X_train,y_train)\n",
        "y_pred=lsr.predict(X_test)\n",
        "\n",
        "#getting the score/performance of the model\n",
        "print('r-squared : ', r2_score(y_pred,y_test)*100)\n",
        "print('mean squared error: ',mean_squared_error(y_pred,y_test))\n",
        "print('root mean squared error:', np.sqrt(mean_squared_error(y_pred,y_test)))\n",
        "\n",
        "lsr.coef_"
      ],
      "execution_count": 57,
      "outputs": [
        {
          "output_type": "stream",
          "text": [
            "r-squared :  49.13393677011996\n",
            "mean squared error:  47284695658.78543\n",
            "root mean squared error: 217450.4441448337\n"
          ],
          "name": "stdout"
        },
        {
          "output_type": "execute_result",
          "data": {
            "text/plain": [
              "array([-3.87446438e+04,  4.94578645e+04,  2.31579534e+02, -3.54961234e-03,\n",
              "        2.23830889e+04,  5.95042731e+05,  4.42895015e+04,  1.90902130e+04,\n",
              "        1.20251821e+05, -7.11594506e+01, -6.88367446e+01, -3.38670291e+03,\n",
              "        1.36098207e+01,  2.86479652e+01, -6.18929473e-01])"
            ]
          },
          "metadata": {
            "tags": []
          },
          "execution_count": 57
        }
      ]
    },
    {
      "cell_type": "code",
      "metadata": {
        "colab": {
          "base_uri": "https://localhost:8080/"
        },
        "id": "3L05BwEk1pvz",
        "outputId": "46679926-5ee4-483a-a6c4-df2600cb20eb"
      },
      "source": [
        "#lasso regression\n",
        "#we will start with an alpha of 0.1\n",
        "lsr=Lasso(alpha=0.3 ,normalize=True)\n",
        "lsr.fit(X_train,y_train)\n",
        "y_pred=lsr.predict(X_test)\n",
        "\n",
        "#getting the score/performance of the model\n",
        "print('r-squared : ', r2_score(y_pred,y_test)*100)\n",
        "print('mean squared error: ',mean_squared_error(y_pred,y_test))\n",
        "print('root mean squared error:', np.sqrt(mean_squared_error(y_pred,y_test)))\n",
        "\n",
        "lsr.coef_"
      ],
      "execution_count": 58,
      "outputs": [
        {
          "output_type": "stream",
          "text": [
            "r-squared :  49.134451406876124\n",
            "mean squared error:  47284629648.5199\n",
            "root mean squared error: 217450.2923624613\n"
          ],
          "name": "stdout"
        },
        {
          "output_type": "execute_result",
          "data": {
            "text/plain": [
              "array([-3.87324535e+04,  4.93795938e+04,  2.00414124e+02, -3.19159886e-03,\n",
              "        2.23619259e+04,  5.94934002e+05,  4.42918739e+04,  1.90670457e+04,\n",
              "        1.20270568e+05, -3.99024447e+01, -3.75665157e+01, -3.38612970e+03,\n",
              "        1.35837409e+01,  2.85394987e+01, -6.18831681e-01])"
            ]
          },
          "metadata": {
            "tags": []
          },
          "execution_count": 58
        }
      ]
    },
    {
      "cell_type": "code",
      "metadata": {
        "colab": {
          "base_uri": "https://localhost:8080/"
        },
        "id": "q1MyzqH610l_",
        "outputId": "3aa5d126-0733-4813-85ab-0af9bc6b2eea"
      },
      "source": [
        "#lasso regression\n",
        "#we will start with an alpha of 0.1\n",
        "lsr=Lasso(alpha=0.4 ,normalize=True)\n",
        "lsr.fit(X_train,y_train)\n",
        "y_pred=lsr.predict(X_test)\n",
        "\n",
        "#getting the score/performance of the model\n",
        "print('r-squared : ', r2_score(y_pred,y_test)*100)\n",
        "print('mean squared error: ',mean_squared_error(y_pred,y_test))\n",
        "print('root mean squared error:', np.sqrt(mean_squared_error(y_pred,y_test)))\n",
        "\n",
        "lsr.coef_"
      ],
      "execution_count": 59,
      "outputs": [
        {
          "output_type": "stream",
          "text": [
            "r-squared :  49.13496102025343\n",
            "mean squared error:  47284573119.33879\n",
            "root mean squared error: 217450.1623805758\n"
          ],
          "name": "stdout"
        },
        {
          "output_type": "execute_result",
          "data": {
            "text/plain": [
              "array([-3.87202632e+04,  4.93013231e+04,  1.69248715e+02, -2.83358537e-03,\n",
              "        2.23407630e+04,  5.94825274e+05,  4.42942464e+04,  1.90438783e+04,\n",
              "        1.20289315e+05, -8.64543874e+00, -6.29628673e+00, -3.38555649e+03,\n",
              "        1.35576611e+01,  2.84310322e+01, -6.18733890e-01])"
            ]
          },
          "metadata": {
            "tags": []
          },
          "execution_count": 59
        }
      ]
    },
    {
      "cell_type": "code",
      "metadata": {
        "colab": {
          "base_uri": "https://localhost:8080/"
        },
        "id": "SOdrS04V16kc",
        "outputId": "934aef1a-4535-4881-f135-270d3ec23caa"
      },
      "source": [
        "#lasso regression\n",
        "#we will start with an alpha of 0.1\n",
        "lsr=Lasso(alpha=0.5 ,normalize=True)\n",
        "lsr.fit(X_train,y_train)\n",
        "y_pred=lsr.predict(X_test)\n",
        "\n",
        "#getting the score/performance of the model\n",
        "print('r-squared : ', r2_score(y_pred,y_test)*100)\n",
        "print('mean squared error: ',mean_squared_error(y_pred,y_test))\n",
        "print('root mean squared error:', np.sqrt(mean_squared_error(y_pred,y_test)))\n",
        "\n",
        "lsr.coef_"
      ],
      "execution_count": 60,
      "outputs": [
        {
          "output_type": "stream",
          "text": [
            "r-squared :  49.090023388585195\n",
            "mean squared error:  47283456686.07233\n",
            "root mean squared error: 217447.59526394474\n"
          ],
          "name": "stdout"
        },
        {
          "output_type": "execute_result",
          "data": {
            "text/plain": [
              "array([-3.85902204e+04,  4.95230141e+04,  1.60194114e+02, -3.18846816e-03,\n",
              "        2.22489785e+04,  5.94765546e+05,  4.42992954e+04,  1.90471718e+04,\n",
              "        1.20204442e+05,  0.00000000e+00,  2.16695071e+00, -3.38446876e+03,\n",
              "        1.35776688e+01,  2.87591871e+01, -6.17325660e-01])"
            ]
          },
          "metadata": {
            "tags": []
          },
          "execution_count": 60
        }
      ]
    },
    {
      "cell_type": "markdown",
      "metadata": {
        "id": "J7fShqKP2tfY"
      },
      "source": [
        "- As we increase the value of alpha, the r-squared increases while the root mean square decreases.\n",
        "- At an alpha of 0.5, the r-squared decreases and the root mean squared error starts going up"
      ]
    },
    {
      "cell_type": "code",
      "metadata": {
        "colab": {
          "base_uri": "https://localhost:8080/"
        },
        "id": "dxW_rY-rml7X",
        "outputId": "ca063dc8-a019-49c1-b19e-36a2d89da23f"
      },
      "source": [
        "scoring={'R_squared':'r2','MSE':'neg_mean_squared_error'}\n",
        "from sklearn.model_selection import GridSearchCV\n",
        "def GridSearch(lsr, Features, Target, param_grid):\n",
        "    for key, value in scoring.items():\n",
        "        grid = GridSearchCV(lsr, param_grid, cv=10, scoring=value)\n",
        "        grid.fit(Features,Target)\n",
        "        print(key)\n",
        "        print('The Best Parameter:', grid.best_params_)\n",
        "        if grid.best_score_ > 0:\n",
        "            print('The Score:', grid.best_score_)\n",
        "        else:\n",
        "            print('The Score:', np.sqrt(abs(grid.best_score_)))\n",
        "        print()\n",
        "param_grid = {'alpha':[0.01, 0.1, 1, 10, 100, 1000, 10000]}\n",
        "GridSearch(lsr, X, y, param_grid)"
      ],
      "execution_count": 61,
      "outputs": [
        {
          "output_type": "stream",
          "text": [
            "R_squared\n",
            "The Best Parameter: {'alpha': 1}\n",
            "The Score: 0.6491008470894324\n",
            "\n",
            "MSE\n",
            "The Best Parameter: {'alpha': 1}\n",
            "The Score: 217200.84911024582\n",
            "\n"
          ],
          "name": "stdout"
        }
      ]
    },
    {
      "cell_type": "markdown",
      "metadata": {
        "id": "FRpedIUr3E30"
      },
      "source": [
        "##### Ridge Regression"
      ]
    },
    {
      "cell_type": "code",
      "metadata": {
        "colab": {
          "base_uri": "https://localhost:8080/"
        },
        "id": "NH8WBeor3Ijf",
        "outputId": "8f3a844d-3c3a-44e0-cf4b-f218d393b6ae"
      },
      "source": [
        "rr=Ridge(alpha=0,normalize=True)  #an alpha of 0 gives us estimates that are same as the linear regression\n",
        "rr.fit(X_train,y_train)\n",
        "y_pred=rr.predict(X_test)\n",
        "#getting the score/performance of the model\n",
        "print('r-squared : ', r2_score(y_pred,y_test)*100)\n",
        "print('mean squared error: ',mean_squared_error(y_pred,y_test))\n",
        "print('root mean squared error:', np.sqrt(mean_squared_error(y_pred,y_test)))\n",
        "\n",
        "rr.coef_"
      ],
      "execution_count": 62,
      "outputs": [
        {
          "output_type": "stream",
          "text": [
            "r-squared :  49.13289242657846\n",
            "mean squared error:  47284856122.5697\n",
            "root mean squared error: 217450.81311084973\n"
          ],
          "name": "stdout"
        },
        {
          "output_type": "execute_result",
          "data": {
            "text/plain": [
              "array([[-3.87690244e+04,  4.96144060e+04,  1.01553954e+02,\n",
              "        -4.26563931e-03,  2.24254147e+04,  5.95260187e+05,\n",
              "         4.42847566e+04,  1.91365478e+04,  1.20214327e+05,\n",
              "         5.86829364e+01,  6.09791963e+01, -3.38784934e+03,\n",
              "         1.36619804e+01,  2.88648983e+01, -6.19125055e-01]])"
            ]
          },
          "metadata": {
            "tags": []
          },
          "execution_count": 62
        }
      ]
    },
    {
      "cell_type": "code",
      "metadata": {
        "colab": {
          "base_uri": "https://localhost:8080/"
        },
        "id": "ryGFzFGS2r_2",
        "outputId": "7b81ef4b-2be4-4c7e-cbb2-57de281ffe8c"
      },
      "source": [
        "rr=Ridge(alpha=0.01,normalize=True) \n",
        "rr.fit(X_train,y_train)\n",
        "y_pred=rr.predict(X_test)\n",
        "#getting the score/performance of the model\n",
        "print('r-squared : ', r2_score(y_pred,y_test)*100)\n",
        "print('mean squared error: ',mean_squared_error(y_pred,y_test))\n",
        "print('root mean squared error:', np.sqrt(mean_squared_error(y_pred,y_test)))\n",
        "\n",
        "rr.coef_"
      ],
      "execution_count": 63,
      "outputs": [
        {
          "output_type": "stream",
          "text": [
            "r-squared :  48.593863310072\n",
            "mean squared error:  47283075077.07282\n",
            "root mean squared error: 217446.71778868686\n"
          ],
          "name": "stdout"
        },
        {
          "output_type": "execute_result",
          "data": {
            "text/plain": [
              "array([[-3.77346122e+04,  4.94428017e+04,  8.18344637e+01,\n",
              "        -4.90696068e-03,  2.28515008e+04,  5.89999686e+05,\n",
              "         4.47779142e+04,  1.96465937e+04,  1.17422040e+05,\n",
              "         7.73675425e+01,  8.01751736e+01, -3.30973455e+03,\n",
              "         1.49959446e+01,  3.12232110e+01, -6.10590768e-01]])"
            ]
          },
          "metadata": {
            "tags": []
          },
          "execution_count": 63
        }
      ]
    },
    {
      "cell_type": "markdown",
      "metadata": {
        "id": "bdIGMLMf6Hvq"
      },
      "source": [
        "- We can see that by sightly adding the value of alpha, the model starts performing badly\n",
        "- This means that the multiple linear regression is the best one to use"
      ]
    },
    {
      "cell_type": "code",
      "metadata": {
        "colab": {
          "base_uri": "https://localhost:8080/"
        },
        "id": "5eu79HCAl0vc",
        "outputId": "83aa2785-f844-4eb2-e479-6cfc58ca456b"
      },
      "source": [
        "scoring={'R_squared':'r2','MSE':'neg_mean_squared_error'}\n",
        "from sklearn.model_selection import GridSearchCV\n",
        "def GridSearch(rr, Features, Target, param_grid):\n",
        "    for key, value in scoring.items():\n",
        "        grid = GridSearchCV(rr, param_grid, cv=10, scoring=value)\n",
        "        grid.fit(Features,Target)\n",
        "        print(key)\n",
        "        print('The Best Parameter:', grid.best_params_)\n",
        "        if grid.best_score_ > 0:\n",
        "            print('The Score:', grid.best_score_)\n",
        "        else:\n",
        "            print('The Score:', np.sqrt(abs(grid.best_score_)))\n",
        "        print()\n",
        "param_grid = {'alpha':[0.01, 0.1, 1, 10, 100, 1000, 10000]}\n",
        "GridSearch(rr, X, y, param_grid)"
      ],
      "execution_count": 64,
      "outputs": [
        {
          "output_type": "stream",
          "text": [
            "R_squared\n",
            "The Best Parameter: {'alpha': 0.01}\n",
            "The Score: 0.6491917315121423\n",
            "\n",
            "MSE\n",
            "The Best Parameter: {'alpha': 0.01}\n",
            "The Score: 217186.0343945913\n",
            "\n"
          ],
          "name": "stdout"
        }
      ]
    },
    {
      "cell_type": "markdown",
      "metadata": {
        "id": "NPi06fjd6YyY"
      },
      "source": [
        "##### quantile regression"
      ]
    },
    {
      "cell_type": "markdown",
      "metadata": {
        "id": "NuVJAbLG7mvF"
      },
      "source": [
        "##### Elastic Net"
      ]
    },
    {
      "cell_type": "code",
      "metadata": {
        "colab": {
          "base_uri": "https://localhost:8080/"
        },
        "id": "ckJ9eP5Z7qG7",
        "outputId": "8eb0f654-6254-407e-abed-f19d7a2466b0"
      },
      "source": [
        "enr=ElasticNet(alpha=1,l1_ratio=0.5,normalize=True)\n",
        "enr.fit(X_train,y_train)\n",
        "y_pred=enr.predict(X_test)\n",
        "\n",
        "#getting the score/performance of the model\n",
        "print('r-squared : ', r2_score(y_pred,y_test)*100)\n",
        "print('mean squared error: ',mean_squared_error(y_pred,y_test))\n",
        "print('root mean squared error:', np.sqrt(mean_squared_error(y_pred,y_test)))\n",
        "\n",
        "from sklearn.model_selection import RepeatedKFold\n",
        "cv = RepeatedKFold(n_splits=10, n_repeats=3, random_state=1)\n",
        "# evaluate model\n",
        "scores = cross_val_score(enr, X, y, scoring='neg_mean_absolute_error', cv=cv, n_jobs=-1)\n",
        "print(scores)"
      ],
      "execution_count": 65,
      "outputs": [
        {
          "output_type": "stream",
          "text": [
            "r-squared :  -512683744.8391958\n",
            "mean squared error:  135790508086.35577\n",
            "root mean squared error: 368497.63647322863\n",
            "[-236093.59709833 -241787.04509815 -229045.58363243 -244676.76379285\n",
            " -233948.88280891 -229651.72470134 -229727.53406145 -227483.93731401\n",
            " -228334.0620264  -239493.29691047 -234771.4738108  -247267.15021884\n",
            " -244832.40808127 -231812.05524444 -223862.45044167 -222136.52781491\n",
            " -225897.03226145 -226972.23554563 -243287.29719917 -239387.49562864\n",
            " -241736.39867133 -232792.38161788 -236860.27324911 -226899.19725571\n",
            " -242427.25342428 -235517.04430853 -223674.35748563 -225365.9398181\n",
            " -237614.91115631 -237592.44178224]\n"
          ],
          "name": "stdout"
        }
      ]
    },
    {
      "cell_type": "code",
      "metadata": {
        "colab": {
          "base_uri": "https://localhost:8080/"
        },
        "id": "CJdXWN9zfLa0",
        "outputId": "4ca72cda-d4a1-4082-ea75-f73cd807bf31"
      },
      "source": [
        "scoring={'R_squared':'r2','MSE':'neg_mean_squared_error'}\n",
        "from sklearn.model_selection import GridSearchCV\n",
        "def GridSearch(enr, Features, Target, param_grid):\n",
        "    for key, value in scoring.items():\n",
        "        grid = GridSearchCV(enr, param_grid, cv=10, scoring=value)\n",
        "        grid.fit(Features,Target)\n",
        "        print(key)\n",
        "        print('The Best Parameter:', grid.best_params_)\n",
        "        if grid.best_score_ > 0:\n",
        "            print('The Score:', grid.best_score_)\n",
        "        else:\n",
        "            print('The Score:', np.sqrt(abs(grid.best_score_)))\n",
        "        print()\n",
        "param_grid = {'alpha':[0.01, 0.1, 1, 10, 100, 1000, 10000]}\n",
        "GridSearch(enr, X, y, param_grid)"
      ],
      "execution_count": 66,
      "outputs": [
        {
          "output_type": "stream",
          "text": [
            "R_squared\n",
            "The Best Parameter: {'alpha': 0.01}\n",
            "The Score: 0.0442132291536899\n",
            "\n",
            "MSE\n",
            "The Best Parameter: {'alpha': 0.01}\n",
            "The Score: 358757.1531692043\n",
            "\n"
          ],
          "name": "stdout"
        }
      ]
    }
  ]
}